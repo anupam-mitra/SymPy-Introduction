{
 "cells": [
  {
   "cell_type": "markdown",
   "id": "85071085-38ff-4a9f-ac27-ef5611d28c69",
   "metadata": {},
   "source": [
    "# Linear Algebra\n",
    "- `sympy` can be use to solve linear algebra problems.\n",
    "- In this notebook `sympy` is not imported as `sy` because a variable `sy` is used to refer to a matrix representing the $y$ component of spin."
   ]
  },
  {
   "cell_type": "code",
   "execution_count": 1,
   "id": "391c2414-6269-4923-960e-d50fe94aeb91",
   "metadata": {},
   "outputs": [],
   "source": [
    "import numpy as np\n",
    "import sympy"
   ]
  },
  {
   "cell_type": "code",
   "execution_count": 2,
   "id": "7b86ed5e-a75f-4980-897b-5b19627d3ffc",
   "metadata": {},
   "outputs": [],
   "source": [
    "sympy.init_printing()"
   ]
  },
  {
   "cell_type": "markdown",
   "id": "ea19a626-181d-4301-a71d-c137d3ac88a1",
   "metadata": {},
   "source": [
    "## Spin-1/2 example\n",
    "- Consider the Pauli matrices $\\sigma_x$, $\\sigma_y$, $\\sigma_z$.\n",
    "- Define them using `sympy.Matrix`\n",
    "- Construct a spin matrix, $h$ along a direction given by polar angle $\\theta$ and azimuthal angle $\\phi$"
   ]
  },
  {
   "cell_type": "code",
   "execution_count": 3,
   "id": "a5a92f5b-f95b-4bcf-9151-dbd6a4978f8a",
   "metadata": {},
   "outputs": [
    {
     "data": {
      "image/png": "[encoded data removed]",
      "text/latex": [
       "$\\displaystyle \\left( \\left[\\begin{matrix}0 & 1\\\\1 & 0\\end{matrix}\\right], \\  \\left[\\begin{matrix}0 & - i\\\\i & 0\\end{matrix}\\right], \\  \\left[\\begin{matrix}1 & 0\\\\0 & -1\\end{matrix}\\right]\\right)$"
      ],
      "text/plain": [
       "⎛⎡0  1⎤  ⎡0  -ⅈ⎤  ⎡1  0 ⎤⎞\n",
       "⎜⎢    ⎥, ⎢     ⎥, ⎢     ⎥⎟\n",
       "⎝⎣1  0⎦  ⎣ⅈ  0 ⎦  ⎣0  -1⎦⎠"
      ]
     },
     "execution_count": 3,
     "metadata": {},
     "output_type": "execute_result"
    }
   ],
   "source": [
    "σx = sympy.Matrix([[0, 1], [1, 0]])\n",
    "σy = sympy.Matrix([[0, -sympy.I], [sympy.I, 0]])\n",
    "σz = sympy.Matrix([[1, 0], [0, -1]])\n",
    "\n",
    "σx, σy, σz"
   ]
  },
  {
   "cell_type": "code",
   "execution_count": 29,
   "id": "5d78caf6-13cc-4d90-b8b5-2b5c71bccf07",
   "metadata": {},
   "outputs": [
    {
     "data": {
      "image/png": "[encoded data removed]",
      "text/latex": [
       "$\\displaystyle \\left( \\theta, \\  \\phi\\right)$"
      ],
      "text/plain": [
       "(θ, φ)"
      ]
     },
     "execution_count": 29,
     "metadata": {},
     "output_type": "execute_result"
    }
   ],
   "source": [
    "phi = sympy.Symbol(\"phi\", real=True)\n",
    "theta = sympy.Symbol('theta', real=True)\n",
    "theta, phi"
   ]
  },
  {
   "cell_type": "code",
   "execution_count": 28,
   "id": "090978f9-eca1-43a2-8553-90aa64a6bf9c",
   "metadata": {},
   "outputs": [
    {
     "data": {
      "image/png": "[encoded data removed]",
      "text/latex": [
       "$\\displaystyle \\left[\\begin{matrix}\\cos{\\left(\\theta \\right)} & \\left(- i \\sin{\\left(\\phi \\right)} + \\cos{\\left(\\phi \\right)}\\right) \\sin{\\left(\\theta \\right)}\\\\\\left(i \\sin{\\left(\\phi \\right)} + \\cos{\\left(\\phi \\right)}\\right) \\sin{\\left(\\theta \\right)} & - \\cos{\\left(\\theta \\right)}\\end{matrix}\\right]$"
      ],
      "text/plain": [
       "⎡          cos(θ)            (-ⅈ⋅sin(φ) + cos(φ))⋅sin(θ)⎤\n",
       "⎢                                                       ⎥\n",
       "⎣(ⅈ⋅sin(φ) + cos(φ))⋅sin(θ)            -cos(θ)          ⎦"
      ]
     },
     "execution_count": 28,
     "metadata": {},
     "output_type": "execute_result"
    }
   ],
   "source": [
    "h = sympy.cos(theta) * σz \\\n",
    "    + sympy.sin(theta) \\\n",
    "    * (sympy.cos(phi) * σx + sympy.sin(phi) * σy)\n",
    "h"
   ]
  },
  {
   "cell_type": "markdown",
   "id": "be75970f-a5cc-4b88-84d3-7623c71219c6",
   "metadata": {},
   "source": [
    "### Eigenvalues and eigenvectors\n",
    "- Find eigenvalues and eigenvectors of `h`"
   ]
  },
  {
   "cell_type": "code",
   "execution_count": 10,
   "id": "bbd496de-7994-4ecd-a489-bedcdaa91361",
   "metadata": {},
   "outputs": [
    {
     "data": {
      "image/png": "[encoded data removed]",
      "text/latex": [
       "$\\displaystyle \\left[ \\left( -1, \\  1, \\  \\left[ \\left[\\begin{matrix}- \\frac{- i \\sin{\\left(\\phi \\right)} \\sin{\\left(\\theta \\right)} + \\sin{\\left(\\theta \\right)} \\cos{\\left(\\phi \\right)}}{\\cos{\\left(\\theta \\right)} + 1}\\\\1\\end{matrix}\\right]\\right]\\right), \\  \\left( 1, \\  1, \\  \\left[ \\left[\\begin{matrix}- \\frac{- i \\sin{\\left(\\phi \\right)} \\sin{\\left(\\theta \\right)} + \\sin{\\left(\\theta \\right)} \\cos{\\left(\\phi \\right)}}{\\cos{\\left(\\theta \\right)} - 1}\\\\1\\end{matrix}\\right]\\right]\\right)\\right]$"
      ],
      "text/plain": [
       "⎡⎛       ⎡⎡-(-ⅈ⋅sin(φ)⋅sin(θ) + sin(θ)⋅cos(φ)) ⎤⎤⎞  ⎛      ⎡⎡-(-ⅈ⋅sin(φ)⋅sin(θ\n",
       "⎢⎜       ⎢⎢────────────────────────────────────⎥⎥⎟  ⎜      ⎢⎢─────────────────\n",
       "⎢⎜-1, 1, ⎢⎢             cos(θ) + 1             ⎥⎥⎟, ⎜1, 1, ⎢⎢             cos(\n",
       "⎢⎜       ⎢⎢                                    ⎥⎥⎟  ⎜      ⎢⎢                 \n",
       "⎣⎝       ⎣⎣                 1                  ⎦⎦⎠  ⎝      ⎣⎣                 \n",
       "\n",
       ") + sin(θ)⋅cos(φ)) ⎤⎤⎞⎤\n",
       "───────────────────⎥⎥⎟⎥\n",
       "θ) - 1             ⎥⎥⎟⎥\n",
       "                   ⎥⎥⎟⎥\n",
       "1                  ⎦⎦⎠⎦"
      ]
     },
     "execution_count": 10,
     "metadata": {},
     "output_type": "execute_result"
    }
   ],
   "source": [
    "h_eigenvects_out = h.eigenvects()\n",
    "\n",
    "h_eigenvects_out"
   ]
  },
  {
   "cell_type": "code",
   "execution_count": 11,
   "id": "cae6857d-1d74-4ba2-b75d-af4ea7f566be",
   "metadata": {},
   "outputs": [
    {
     "data": {
      "image/png": "[encoded data removed]",
      "text/latex": [
       "$\\displaystyle \\left[ \\left[\\begin{matrix}- \\frac{- i \\sin{\\left(\\phi \\right)} \\sin{\\left(\\theta \\right)} + \\sin{\\left(\\theta \\right)} \\cos{\\left(\\phi \\right)}}{\\cos{\\left(\\theta \\right)} + 1}\\\\1\\end{matrix}\\right], \\  \\left[\\begin{matrix}- \\frac{- i \\sin{\\left(\\phi \\right)} \\sin{\\left(\\theta \\right)} + \\sin{\\left(\\theta \\right)} \\cos{\\left(\\phi \\right)}}{\\cos{\\left(\\theta \\right)} - 1}\\\\1\\end{matrix}\\right]\\right]$"
      ],
      "text/plain": [
       "⎡⎡-(-ⅈ⋅sin(φ)⋅sin(θ) + sin(θ)⋅cos(φ)) ⎤  ⎡-(-ⅈ⋅sin(φ)⋅sin(θ) + sin(θ)⋅cos(φ)) \n",
       "⎢⎢────────────────────────────────────⎥  ⎢────────────────────────────────────\n",
       "⎢⎢             cos(θ) + 1             ⎥, ⎢             cos(θ) - 1             \n",
       "⎢⎢                                    ⎥  ⎢                                    \n",
       "⎣⎣                 1                  ⎦  ⎣                 1                  \n",
       "\n",
       "⎤⎤\n",
       "⎥⎥\n",
       "⎥⎥\n",
       "⎥⎥\n",
       "⎦⎦"
      ]
     },
     "execution_count": 11,
     "metadata": {},
     "output_type": "execute_result"
    }
   ],
   "source": [
    "h_eigenvects = [h_eigenvects_out[0][2][0], h_eigenvects_out[1][2][0]]\n",
    "h_eigenvects"
   ]
  },
  {
   "cell_type": "markdown",
   "id": "30021cd9-dcfa-4138-8ded-80fc29be5d4c",
   "metadata": {},
   "source": [
    "- The eigenvectors are not normalized.\n",
    "- The function `hsnormalize` normalizes them."
   ]
  },
  {
   "cell_type": "code",
   "execution_count": 12,
   "id": "1264b977-a69b-48ab-8986-5d0afadfa148",
   "metadata": {},
   "outputs": [],
   "source": [
    "def hsnormalize(v):\n",
    "    \"\"\"\n",
    "    Normalizes a matrix using a Hilbert-Schmidt norm\n",
    "    \n",
    "    Parameters\n",
    "    ---------\n",
    "    v: sympy.Matrix\n",
    "        Matrix to be normalized\n",
    "    \n",
    "    p: int\n",
    "        p of p-norm\n",
    "        \n",
    "    Returns\n",
    "    -------\n",
    "    v_normalized: sympy.Matrix\n",
    "    \n",
    "    ..math:: \n",
    "    v_{\\\\mathrm{normalized}} = v / \\\\Vert v \\\\Vert_{\\mathrm{HS}}\n",
    "    \n",
    "    \\\\Vert v \\\\Vert_{\\mathrm{HS}} = \n",
    "    \\\\sqrt{\\\\mathrm{Tr} \\\\left(v^\\\\dagger v \\\\right)}\n",
    "    \"\"\"\n",
    "    \n",
    "    norm_v = sympy.sqrt(sympy.trace(v.adjoint() * v))\n",
    "    \n",
    "    v_normalized = v / norm_v\n",
    "    \n",
    "    return v_normalized"
   ]
  },
  {
   "cell_type": "code",
   "execution_count": 13,
   "id": "be64ab94-a777-426b-8b24-4d3d12430d58",
   "metadata": {},
   "outputs": [
    {
     "data": {
      "image/png": "[encoded data removed]",
      "text/latex": [
       "$\\displaystyle \\left[ \\left[\\begin{matrix}\\frac{\\sqrt{2} \\left(i \\sin{\\left(\\phi \\right)} - \\cos{\\left(\\phi \\right)}\\right) \\sin{\\left(\\theta \\right)}}{2 \\left(\\cos{\\left(\\theta \\right)} + 1\\right) \\sqrt{\\frac{1}{\\cos{\\left(\\theta \\right)} + 1}}}\\\\\\frac{\\sqrt{2}}{2 \\sqrt{\\frac{1}{\\cos{\\left(\\theta \\right)} + 1}}}\\end{matrix}\\right], \\  \\left[\\begin{matrix}\\frac{\\sqrt{2} \\left(i \\sin{\\left(\\phi \\right)} - \\cos{\\left(\\phi \\right)}\\right) \\sin{\\left(\\theta \\right)}}{2 \\sqrt{- \\frac{1}{\\cos{\\left(\\theta \\right)} - 1}} \\left(\\cos{\\left(\\theta \\right)} - 1\\right)}\\\\\\frac{\\sqrt{2}}{2 \\sqrt{- \\frac{1}{\\cos{\\left(\\theta \\right)} - 1}}}\\end{matrix}\\right]\\right]$"
      ],
      "text/plain": [
       "⎡⎡ √2⋅(ⅈ⋅sin(φ) - cos(φ))⋅sin(θ) ⎤  ⎡ √2⋅(ⅈ⋅sin(φ) - cos(φ))⋅sin(θ) ⎤⎤\n",
       "⎢⎢───────────────────────────────⎥  ⎢───────────────────────────────⎥⎥\n",
       "⎢⎢                   ____________⎥  ⎢      ____________             ⎥⎥\n",
       "⎢⎢                  ╱     1      ⎥  ⎢     ╱    -1                   ⎥⎥\n",
       "⎢⎢2⋅(cos(θ) + 1)⋅  ╱  ────────── ⎥  ⎢2⋅  ╱  ────────── ⋅(cos(θ) - 1)⎥⎥\n",
       "⎢⎢               ╲╱   cos(θ) + 1 ⎥  ⎢  ╲╱   cos(θ) - 1              ⎥⎥\n",
       "⎢⎢                               ⎥, ⎢                               ⎥⎥\n",
       "⎢⎢              √2               ⎥  ⎢              √2               ⎥⎥\n",
       "⎢⎢      ──────────────────       ⎥  ⎢      ──────────────────       ⎥⎥\n",
       "⎢⎢            ____________       ⎥  ⎢            ____________       ⎥⎥\n",
       "⎢⎢           ╱     1             ⎥  ⎢           ╱    -1             ⎥⎥\n",
       "⎢⎢      2⋅  ╱  ──────────        ⎥  ⎢      2⋅  ╱  ──────────        ⎥⎥\n",
       "⎣⎣        ╲╱   cos(θ) + 1        ⎦  ⎣        ╲╱   cos(θ) - 1        ⎦⎦"
      ]
     },
     "execution_count": 13,
     "metadata": {},
     "output_type": "execute_result"
    }
   ],
   "source": [
    "[sympy.simplify(hsnormalize(u)) for u in h_eigenvects]"
   ]
  },
  {
   "cell_type": "markdown",
   "id": "015626f6-d1df-4f25-a14b-c91263d62afc",
   "metadata": {},
   "source": [
    "### Derivatives of matrices\n",
    "- Matrices can be differentialted with respect their arguments\n",
    "- Find the derivative of `h` with respect to `phi`\n",
    "- Find the derivative of `h` with respect to `theta`"
   ]
  },
  {
   "cell_type": "code",
   "execution_count": 14,
   "id": "a3c18c07-c896-4757-aa83-8524929ef400",
   "metadata": {
    "tags": []
   },
   "outputs": [
    {
     "data": {
      "image/png": "[encoded data removed]",
      "text/latex": [
       "$\\displaystyle \\left[\\begin{matrix}0 & \\left(- \\sin{\\left(\\phi \\right)} - i \\cos{\\left(\\phi \\right)}\\right) \\sin{\\left(\\theta \\right)}\\\\\\left(- \\sin{\\left(\\phi \\right)} + i \\cos{\\left(\\phi \\right)}\\right) \\sin{\\left(\\theta \\right)} & 0\\end{matrix}\\right]$"
      ],
      "text/plain": [
       "⎡             0               (-sin(φ) - ⅈ⋅cos(φ))⋅sin(θ)⎤\n",
       "⎢                                                        ⎥\n",
       "⎣(-sin(φ) + ⅈ⋅cos(φ))⋅sin(θ)               0             ⎦"
      ]
     },
     "execution_count": 14,
     "metadata": {},
     "output_type": "execute_result"
    }
   ],
   "source": [
    "dh_dphi = sympy.diff(h, phi)\n",
    "\n",
    "dh_dphi"
   ]
  },
  {
   "cell_type": "code",
   "execution_count": 15,
   "id": "24144745-7ec8-4f8e-ab81-8545173e484c",
   "metadata": {
    "tags": []
   },
   "outputs": [
    {
     "data": {
      "image/png": "[encoded data removed]",
      "text/latex": [
       "$\\displaystyle \\left[\\begin{matrix}- \\sin{\\left(\\theta \\right)} & \\left(- i \\sin{\\left(\\phi \\right)} + \\cos{\\left(\\phi \\right)}\\right) \\cos{\\left(\\theta \\right)}\\\\\\left(i \\sin{\\left(\\phi \\right)} + \\cos{\\left(\\phi \\right)}\\right) \\cos{\\left(\\theta \\right)} & \\sin{\\left(\\theta \\right)}\\end{matrix}\\right]$"
      ],
      "text/plain": [
       "⎡         -sin(θ)            (-ⅈ⋅sin(φ) + cos(φ))⋅cos(θ)⎤\n",
       "⎢                                                       ⎥\n",
       "⎣(ⅈ⋅sin(φ) + cos(φ))⋅cos(θ)            sin(θ)           ⎦"
      ]
     },
     "execution_count": 15,
     "metadata": {},
     "output_type": "execute_result"
    }
   ],
   "source": [
    "dh_dtheta = sympy.diff(h, theta)\n",
    "\n",
    "dh_dtheta"
   ]
  },
  {
   "cell_type": "markdown",
   "id": "c14c8439-3f2c-4572-ac79-695c2e37c671",
   "metadata": {
    "tags": []
   },
   "source": [
    "### Exponentiating matrices\n",
    "- `sympy.exp` can exponential matrices.\n",
    "- For example, $\\exp(-\\mathrm{i} \\Theta \\sigma_x/2)$ can be evaluated using `sympy` using `sympy.exp`"
   ]
  },
  {
   "cell_type": "code",
   "execution_count": 33,
   "id": "14d0ca2b-cb66-4890-a7b3-534368312164",
   "metadata": {},
   "outputs": [
    {
     "data": {
      "image/png": "[encoded data removed]",
      "text/latex": [
       "$\\displaystyle \\left[\\begin{matrix}\\frac{e^{\\frac{i \\Theta}{2}}}{2} + \\frac{e^{- \\frac{i \\Theta}{2}}}{2} & \\frac{e^{\\frac{i \\Theta}{2}}}{2} - \\frac{e^{- \\frac{i \\Theta}{2}}}{2}\\\\\\frac{e^{\\frac{i \\Theta}{2}}}{2} - \\frac{e^{- \\frac{i \\Theta}{2}}}{2} & \\frac{e^{\\frac{i \\Theta}{2}}}{2} + \\frac{e^{- \\frac{i \\Theta}{2}}}{2}\\end{matrix}\\right]$"
      ],
      "text/plain": [
       "⎡ ⅈ⋅Θ    -ⅈ⋅Θ    ⅈ⋅Θ    -ⅈ⋅Θ ⎤\n",
       "⎢ ───    ─────   ───    ─────⎥\n",
       "⎢  2       2      2       2  ⎥\n",
       "⎢ℯ      ℯ       ℯ      ℯ     ⎥\n",
       "⎢──── + ──────  ──── - ──────⎥\n",
       "⎢ 2       2      2       2   ⎥\n",
       "⎢                            ⎥\n",
       "⎢ ⅈ⋅Θ    -ⅈ⋅Θ    ⅈ⋅Θ    -ⅈ⋅Θ ⎥\n",
       "⎢ ───    ─────   ───    ─────⎥\n",
       "⎢  2       2      2       2  ⎥\n",
       "⎢ℯ      ℯ       ℯ      ℯ     ⎥\n",
       "⎢──── - ──────  ──── + ──────⎥\n",
       "⎣ 2       2      2       2   ⎦"
      ]
     },
     "execution_count": 33,
     "metadata": {},
     "output_type": "execute_result"
    }
   ],
   "source": [
    "Theta = sympy.Symbol(\"Theta\")\n",
    "exp_σx_Theta = sympy.exp(sympy.I * Theta * σx/2)\n",
    "\n",
    "exp_σx_Theta"
   ]
  },
  {
   "cell_type": "code",
   "execution_count": 34,
   "id": "52af113f-a5db-4c30-92e3-3d32cc81d9e0",
   "metadata": {},
   "outputs": [
    {
     "data": {
      "image/png": "[encoded data removed]",
      "text/latex": [
       "$\\displaystyle \\left[\\begin{matrix}\\cos{\\left(\\frac{\\Theta}{2} \\right)} & i \\sin{\\left(\\frac{\\Theta}{2} \\right)}\\\\i \\sin{\\left(\\frac{\\Theta}{2} \\right)} & \\cos{\\left(\\frac{\\Theta}{2} \\right)}\\end{matrix}\\right]$"
      ],
      "text/plain": [
       "⎡    ⎛Θ⎞        ⎛Θ⎞⎤\n",
       "⎢ cos⎜─⎟   ⅈ⋅sin⎜─⎟⎥\n",
       "⎢    ⎝2⎠        ⎝2⎠⎥\n",
       "⎢                  ⎥\n",
       "⎢     ⎛Θ⎞      ⎛Θ⎞ ⎥\n",
       "⎢ⅈ⋅sin⎜─⎟   cos⎜─⎟ ⎥\n",
       "⎣     ⎝2⎠      ⎝2⎠ ⎦"
      ]
     },
     "execution_count": 34,
     "metadata": {},
     "output_type": "execute_result"
    }
   ],
   "source": [
    "sympy.simplify(exp_σx_Theta)"
   ]
  },
  {
   "cell_type": "markdown",
   "id": "dbc72de7-52af-4594-a993-b29e575977a5",
   "metadata": {},
   "source": [
    "- `sympy.exp` is less susceptible to loss of precision than numerical matrix exponential using, for example, `scipy.linalg.expm`"
   ]
  },
  {
   "cell_type": "code",
   "execution_count": 35,
   "id": "775c7028-a522-4dc4-81d5-334bf40a6fb2",
   "metadata": {},
   "outputs": [
    {
     "data": {
      "text/plain": [
       "array([[-1.-0.00000000e+00j,  0.-2.35127499e-16j],\n",
       "       [ 0.-2.35127499e-16j, -1.-0.00000000e+00j]])"
      ]
     },
     "execution_count": 35,
     "metadata": {},
     "output_type": "execute_result"
    }
   ],
   "source": [
    "import scipy.linalg\n",
    "\n",
    "σx_numpy = np.array([[0, 1], [1, 0]], dtype=complex)\n",
    "expm_σx_pi = scipy.linalg.expm(-1j * np.pi * numpy_σx)\n",
    "expm_σx_pi"
   ]
  },
  {
   "cell_type": "code",
   "execution_count": 41,
   "id": "e98cfbf8-a41d-4c3c-92e1-9cc500e36c73",
   "metadata": {},
   "outputs": [
    {
     "data": {
      "image/png": "[encoded data removed]",
      "text/latex": [
       "$\\displaystyle \\left[\\begin{matrix}-1 & 0\\\\0 & -1\\end{matrix}\\right]$"
      ],
      "text/plain": [
       "⎡-1  0 ⎤\n",
       "⎢      ⎥\n",
       "⎣0   -1⎦"
      ]
     },
     "execution_count": 41,
     "metadata": {},
     "output_type": "execute_result"
    }
   ],
   "source": [
    "exp_σx_Theta.subs({'Theta': 2*sympy.pi})"
   ]
  },
  {
   "cell_type": "markdown",
   "id": "f612bbaf-ff39-4b34-b99d-36fa48f2ebac",
   "metadata": {},
   "source": [
    "## Spin-1 example\n",
    "Next, we consider the spin-1 matrices $S_x$, $S_y$ and $S_z$\n",
    "- Define the matrices using `sympy.Matrix`\n",
    "- Use constant symbol `hbar` which is obtained using the function `sympy.physics.quantum.hbar`"
   ]
  },
  {
   "cell_type": "code",
   "execution_count": 16,
   "id": "84a8f93b-3853-48e7-904c-a2024077728c",
   "metadata": {},
   "outputs": [],
   "source": [
    "import sympy.physics.quantum"
   ]
  },
  {
   "cell_type": "code",
   "execution_count": 17,
   "id": "804efc27-fd1c-4738-9411-69d657aac87d",
   "metadata": {},
   "outputs": [
    {
     "data": {
      "image/png": "[encoded data removed]",
      "text/latex": [
       "$\\displaystyle \\left( \\left[\\begin{matrix}0 & \\frac{\\sqrt{2} \\hbar}{2} & 0\\\\\\frac{\\sqrt{2} \\hbar}{2} & 0 & \\frac{\\sqrt{2} \\hbar}{2}\\\\0 & \\frac{\\sqrt{2} \\hbar}{2} & 0\\end{matrix}\\right], \\  \\left[\\begin{matrix}0 & - \\frac{\\sqrt{2} \\hbar i}{2} & 0\\\\\\frac{\\sqrt{2} \\hbar i}{2} & 0 & - \\frac{\\sqrt{2} \\hbar i}{2}\\\\0 & \\frac{\\sqrt{2} \\hbar i}{2} & 0\\end{matrix}\\right], \\  \\left[\\begin{matrix}\\hbar & 0 & 0\\\\0 & 0 & 0\\\\0 & 0 & - \\hbar\\end{matrix}\\right]\\right)$"
      ],
      "text/plain": [
       "⎛⎡      √2⋅ℏ      ⎤  ⎡        -√2⋅ℏ⋅ⅈ           ⎤            ⎞\n",
       "⎜⎢ 0    ────   0  ⎥  ⎢  0     ────────     0    ⎥            ⎟\n",
       "⎜⎢       2        ⎥  ⎢           2              ⎥            ⎟\n",
       "⎜⎢                ⎥  ⎢                          ⎥  ⎡ℏ  0  0 ⎤⎟\n",
       "⎜⎢√2⋅ℏ        √2⋅ℏ⎥  ⎢√2⋅ℏ⋅ⅈ            -√2⋅ℏ⋅ⅈ ⎥  ⎢        ⎥⎟\n",
       "⎜⎢────   0    ────⎥, ⎢──────     0      ────────⎥, ⎢0  0  0 ⎥⎟\n",
       "⎜⎢ 2           2  ⎥  ⎢  2                  2    ⎥  ⎢        ⎥⎟\n",
       "⎜⎢                ⎥  ⎢                          ⎥  ⎣0  0  -ℏ⎦⎟\n",
       "⎜⎢      √2⋅ℏ      ⎥  ⎢         √2⋅ℏ⋅ⅈ           ⎥            ⎟\n",
       "⎜⎢ 0    ────   0  ⎥  ⎢  0      ──────      0    ⎥            ⎟\n",
       "⎝⎣       2        ⎦  ⎣           2              ⎦            ⎠"
      ]
     },
     "execution_count": 17,
     "metadata": {},
     "output_type": "execute_result"
    }
   ],
   "source": [
    "hbar = sympy.physics.quantum.hbar\n",
    "\n",
    "sx = hbar / sympy.sqrt(2) * \\\n",
    "    sympy.Matrix([[0, 1, 0], \\\n",
    "                  [1, 0, 1], \\\n",
    "                  [0, 1, 0]])\n",
    "\n",
    "sy =  hbar / sympy.sqrt(2) * sympy.I * \\\n",
    "    sympy.Matrix([[0, -1, 0], \\\n",
    "                  [1, 0, -1], \\\n",
    "                  [0, 1, 0]])\n",
    "\n",
    "sz = hbar * \\\n",
    "    sympy.Matrix([[1, 0, 0], \\\n",
    "                  [0, 0, 0], \\\n",
    "                  [0, 0, -1]])\n",
    "\n",
    "sx, sy, sz"
   ]
  },
  {
   "cell_type": "markdown",
   "id": "569b8c37-bf29-4b3f-adf8-6906b984a625",
   "metadata": {},
   "source": [
    "### Eigenvalues and eigenvectors\n",
    "- Find the eigenvalues and eigenvectors of Hermitian operators `sx`, `sy`, `sz`."
   ]
  },
  {
   "cell_type": "code",
   "execution_count": 18,
   "id": "04405a54-4766-498b-a677-e569f3aa32f8",
   "metadata": {},
   "outputs": [
    {
     "data": {
      "image/png": "[encoded data removed]",
      "text/latex": [
       "$\\displaystyle \\left[ \\left( 0, \\  1, \\  \\left[ \\left[\\begin{matrix}-1\\\\0\\\\1\\end{matrix}\\right]\\right]\\right), \\  \\left( - \\hbar, \\  1, \\  \\left[ \\left[\\begin{matrix}1\\\\- \\sqrt{2}\\\\1\\end{matrix}\\right]\\right]\\right), \\  \\left( \\hbar, \\  1, \\  \\left[ \\left[\\begin{matrix}1\\\\\\sqrt{2}\\\\1\\end{matrix}\\right]\\right]\\right)\\right]$"
      ],
      "text/plain": [
       "⎡⎛      ⎡⎡-1⎤⎤⎞  ⎛       ⎡⎡ 1 ⎤⎤⎞  ⎛      ⎡⎡1 ⎤⎤⎞⎤\n",
       "⎢⎜      ⎢⎢  ⎥⎥⎟  ⎜       ⎢⎢   ⎥⎥⎟  ⎜      ⎢⎢  ⎥⎥⎟⎥\n",
       "⎢⎜0, 1, ⎢⎢0 ⎥⎥⎟, ⎜-ℏ, 1, ⎢⎢-√2⎥⎥⎟, ⎜ℏ, 1, ⎢⎢√2⎥⎥⎟⎥\n",
       "⎢⎜      ⎢⎢  ⎥⎥⎟  ⎜       ⎢⎢   ⎥⎥⎟  ⎜      ⎢⎢  ⎥⎥⎟⎥\n",
       "⎣⎝      ⎣⎣1 ⎦⎦⎠  ⎝       ⎣⎣ 1 ⎦⎦⎠  ⎝      ⎣⎣1 ⎦⎦⎠⎦"
      ]
     },
     "execution_count": 18,
     "metadata": {},
     "output_type": "execute_result"
    }
   ],
   "source": [
    "sx_eigenvects_out = sx.eigenvects()\n",
    "sx_eigenvects_out"
   ]
  },
  {
   "cell_type": "code",
   "execution_count": 19,
   "id": "3f4907bc-b55c-4b0c-8bd9-76048e7c7f99",
   "metadata": {},
   "outputs": [
    {
     "data": {
      "image/png": "[encoded data removed]",
      "text/latex": [
       "$\\displaystyle \\left[ \\left( 0, \\  1, \\  \\left[ \\left[\\begin{matrix}1\\\\0\\\\1\\end{matrix}\\right]\\right]\\right), \\  \\left( - \\hbar, \\  1, \\  \\left[ \\left[\\begin{matrix}-1\\\\\\sqrt{2} i\\\\1\\end{matrix}\\right]\\right]\\right), \\  \\left( \\hbar, \\  1, \\  \\left[ \\left[\\begin{matrix}-1\\\\- \\sqrt{2} i\\\\1\\end{matrix}\\right]\\right]\\right)\\right]$"
      ],
      "text/plain": [
       "⎡⎛      ⎡⎡1⎤⎤⎞  ⎛       ⎡⎡ -1 ⎤⎤⎞  ⎛      ⎡⎡ -1  ⎤⎤⎞⎤\n",
       "⎢⎜      ⎢⎢ ⎥⎥⎟  ⎜       ⎢⎢    ⎥⎥⎟  ⎜      ⎢⎢     ⎥⎥⎟⎥\n",
       "⎢⎜0, 1, ⎢⎢0⎥⎥⎟, ⎜-ℏ, 1, ⎢⎢√2⋅ⅈ⎥⎥⎟, ⎜ℏ, 1, ⎢⎢-√2⋅ⅈ⎥⎥⎟⎥\n",
       "⎢⎜      ⎢⎢ ⎥⎥⎟  ⎜       ⎢⎢    ⎥⎥⎟  ⎜      ⎢⎢     ⎥⎥⎟⎥\n",
       "⎣⎝      ⎣⎣1⎦⎦⎠  ⎝       ⎣⎣ 1  ⎦⎦⎠  ⎝      ⎣⎣  1  ⎦⎦⎠⎦"
      ]
     },
     "execution_count": 19,
     "metadata": {},
     "output_type": "execute_result"
    }
   ],
   "source": [
    "sy_eigenvects_out = sy.eigenvects()\n",
    "sy_eigenvects_out"
   ]
  },
  {
   "cell_type": "code",
   "execution_count": 20,
   "id": "95e721d4-2945-4cce-a265-f8453325dee6",
   "metadata": {},
   "outputs": [
    {
     "data": {
      "image/png": "[encoded data removed]",
      "text/latex": [
       "$\\displaystyle \\left[ \\left( 0, \\  1, \\  \\left[ \\left[\\begin{matrix}0\\\\1\\\\0\\end{matrix}\\right]\\right]\\right), \\  \\left( - \\hbar, \\  1, \\  \\left[ \\left[\\begin{matrix}0\\\\0\\\\1\\end{matrix}\\right]\\right]\\right), \\  \\left( \\hbar, \\  1, \\  \\left[ \\left[\\begin{matrix}1\\\\0\\\\0\\end{matrix}\\right]\\right]\\right)\\right]$"
      ],
      "text/plain": [
       "⎡⎛      ⎡⎡0⎤⎤⎞  ⎛       ⎡⎡0⎤⎤⎞  ⎛      ⎡⎡1⎤⎤⎞⎤\n",
       "⎢⎜      ⎢⎢ ⎥⎥⎟  ⎜       ⎢⎢ ⎥⎥⎟  ⎜      ⎢⎢ ⎥⎥⎟⎥\n",
       "⎢⎜0, 1, ⎢⎢1⎥⎥⎟, ⎜-ℏ, 1, ⎢⎢0⎥⎥⎟, ⎜ℏ, 1, ⎢⎢0⎥⎥⎟⎥\n",
       "⎢⎜      ⎢⎢ ⎥⎥⎟  ⎜       ⎢⎢ ⎥⎥⎟  ⎜      ⎢⎢ ⎥⎥⎟⎥\n",
       "⎣⎝      ⎣⎣0⎦⎦⎠  ⎝       ⎣⎣1⎦⎦⎠  ⎝      ⎣⎣0⎦⎦⎠⎦"
      ]
     },
     "execution_count": 20,
     "metadata": {},
     "output_type": "execute_result"
    }
   ],
   "source": [
    "sz_eigenvects_out = sz.eigenvects()\n",
    "sz_eigenvects_out"
   ]
  },
  {
   "cell_type": "markdown",
   "id": "104312a5-8dc8-4552-873f-b98365fccf90",
   "metadata": {},
   "source": [
    "### Singular value decomposition\n",
    "- `sympy` also performs singular value decompositions.\n",
    "    - Consider a non-necessarily  matrix $A$.\n",
    "    - The singular value decomposition of $A$ involves writing $A$ as\n",
    "    $A = U S V^\\dagger$, where $U$ and $V$ are isometries and $S$ is a diagonal matrix of singular values.\n",
    "- Consider the non-Hermitian operators $S_{\\pm} = S_x \\pm \\mathrm{i} S_y$.\n",
    "- Find the singular value decompositions of $S_+$, $S_-$, $S_+^2$, $S_-^2$, $S_+ S_-$ and $S_- S_+$\n"
   ]
  },
  {
   "cell_type": "code",
   "execution_count": 21,
   "id": "9b306c65-5373-4432-b614-978816ad34d0",
   "metadata": {},
   "outputs": [
    {
     "data": {
      "image/png": "[encoded data removed]",
      "text/latex": [
       "$\\displaystyle \\left( \\left[\\begin{matrix}0 & \\sqrt{2} \\hbar & 0\\\\0 & 0 & \\sqrt{2} \\hbar\\\\0 & 0 & 0\\end{matrix}\\right], \\  \\left[\\begin{matrix}0 & 0 & 0\\\\\\sqrt{2} \\hbar & 0 & 0\\\\0 & \\sqrt{2} \\hbar & 0\\end{matrix}\\right]\\right)$"
      ],
      "text/plain": [
       "⎛⎡0  √2⋅ℏ   0  ⎤  ⎡ 0     0    0⎤⎞\n",
       "⎜⎢             ⎥  ⎢             ⎥⎟\n",
       "⎜⎢0   0    √2⋅ℏ⎥, ⎢√2⋅ℏ   0    0⎥⎟\n",
       "⎜⎢             ⎥  ⎢             ⎥⎟\n",
       "⎝⎣0   0     0  ⎦  ⎣ 0    √2⋅ℏ  0⎦⎠"
      ]
     },
     "execution_count": 21,
     "metadata": {},
     "output_type": "execute_result"
    }
   ],
   "source": [
    "sp = sx + sympy.I * sy\n",
    "sm = sx - sympy.I * sy\n",
    "\n",
    "sp, sm"
   ]
  },
  {
   "cell_type": "code",
   "execution_count": 22,
   "id": "4e4d18d9-f46b-4b67-8a56-b55ed7249c59",
   "metadata": {},
   "outputs": [
    {
     "data": {
      "image/png": "[encoded data removed]",
      "text/latex": [
       "$\\displaystyle \\left( \\left[\\begin{matrix}1 & 0\\\\0 & 1\\\\0 & 0\\end{matrix}\\right], \\  \\left[\\begin{matrix}\\sqrt{2} \\hbar & 0\\\\0 & \\sqrt{2} \\hbar\\end{matrix}\\right], \\  \\left[\\begin{matrix}0 & 0\\\\1 & 0\\\\0 & 1\\end{matrix}\\right]\\right)$"
      ],
      "text/plain": [
       "⎛⎡1  0⎤                ⎡0  0⎤⎞\n",
       "⎜⎢    ⎥  ⎡√2⋅ℏ   0  ⎤  ⎢    ⎥⎟\n",
       "⎜⎢0  1⎥, ⎢          ⎥, ⎢1  0⎥⎟\n",
       "⎜⎢    ⎥  ⎣ 0    √2⋅ℏ⎦  ⎢    ⎥⎟\n",
       "⎝⎣0  0⎦                ⎣0  1⎦⎠"
      ]
     },
     "execution_count": 22,
     "metadata": {},
     "output_type": "execute_result"
    }
   ],
   "source": [
    "sp.singular_value_decomposition()"
   ]
  },
  {
   "cell_type": "code",
   "execution_count": 23,
   "id": "9384f251-5cbc-4550-8464-c50b038d1810",
   "metadata": {},
   "outputs": [
    {
     "data": {
      "image/png": "[encoded data removed]",
      "text/latex": [
       "$\\displaystyle \\left( \\left[\\begin{matrix}0 & 0\\\\1 & 0\\\\0 & 1\\end{matrix}\\right], \\  \\left[\\begin{matrix}\\sqrt{2} \\hbar & 0\\\\0 & \\sqrt{2} \\hbar\\end{matrix}\\right], \\  \\left[\\begin{matrix}1 & 0\\\\0 & 1\\\\0 & 0\\end{matrix}\\right]\\right)$"
      ],
      "text/plain": [
       "⎛⎡0  0⎤                ⎡1  0⎤⎞\n",
       "⎜⎢    ⎥  ⎡√2⋅ℏ   0  ⎤  ⎢    ⎥⎟\n",
       "⎜⎢1  0⎥, ⎢          ⎥, ⎢0  1⎥⎟\n",
       "⎜⎢    ⎥  ⎣ 0    √2⋅ℏ⎦  ⎢    ⎥⎟\n",
       "⎝⎣0  1⎦                ⎣0  0⎦⎠"
      ]
     },
     "execution_count": 23,
     "metadata": {},
     "output_type": "execute_result"
    }
   ],
   "source": [
    "sm.singular_value_decomposition()"
   ]
  },
  {
   "cell_type": "code",
   "execution_count": 24,
   "id": "fe145ad9-dff8-433f-9b18-dea4e9f2914e",
   "metadata": {},
   "outputs": [
    {
     "data": {
      "image/png": "[encoded data removed]",
      "text/latex": [
       "$\\displaystyle \\left( \\left[\\begin{matrix}1\\\\0\\\\0\\end{matrix}\\right], \\  \\left[\\begin{matrix}2 \\hbar^{2}\\end{matrix}\\right], \\  \\left[\\begin{matrix}0\\\\0\\\\1\\end{matrix}\\right]\\right)$"
      ],
      "text/plain": [
       "⎛⎡1⎤          ⎡0⎤⎞\n",
       "⎜⎢ ⎥  ⎡   2⎤  ⎢ ⎥⎟\n",
       "⎜⎢0⎥, ⎣2⋅ℏ ⎦, ⎢0⎥⎟\n",
       "⎜⎢ ⎥          ⎢ ⎥⎟\n",
       "⎝⎣0⎦          ⎣1⎦⎠"
      ]
     },
     "execution_count": 24,
     "metadata": {},
     "output_type": "execute_result"
    }
   ],
   "source": [
    "(sp * sp).singular_value_decomposition()"
   ]
  },
  {
   "cell_type": "code",
   "execution_count": 25,
   "id": "abd3b1c1-d68d-4eed-97b6-cb952fbd1906",
   "metadata": {},
   "outputs": [
    {
     "data": {
      "image/png": "[encoded data removed]",
      "text/latex": [
       "$\\displaystyle \\left( \\left[\\begin{matrix}0\\\\0\\\\1\\end{matrix}\\right], \\  \\left[\\begin{matrix}2 \\hbar^{2}\\end{matrix}\\right], \\  \\left[\\begin{matrix}1\\\\0\\\\0\\end{matrix}\\right]\\right)$"
      ],
      "text/plain": [
       "⎛⎡0⎤          ⎡1⎤⎞\n",
       "⎜⎢ ⎥  ⎡   2⎤  ⎢ ⎥⎟\n",
       "⎜⎢0⎥, ⎣2⋅ℏ ⎦, ⎢0⎥⎟\n",
       "⎜⎢ ⎥          ⎢ ⎥⎟\n",
       "⎝⎣1⎦          ⎣0⎦⎠"
      ]
     },
     "execution_count": 25,
     "metadata": {},
     "output_type": "execute_result"
    }
   ],
   "source": [
    "(sm * sm).singular_value_decomposition()"
   ]
  },
  {
   "cell_type": "code",
   "execution_count": 26,
   "id": "862e521f-e325-40a1-bbf0-f3a0f57823be",
   "metadata": {},
   "outputs": [
    {
     "data": {
      "image/png": "[encoded data removed]",
      "text/latex": [
       "$\\displaystyle \\left( \\left[\\begin{matrix}1 & 0\\\\0 & 1\\\\0 & 0\\end{matrix}\\right], \\  \\left[\\begin{matrix}2 \\hbar^{2} & 0\\\\0 & 2 \\hbar^{2}\\end{matrix}\\right], \\  \\left[\\begin{matrix}1 & 0\\\\0 & 1\\\\0 & 0\\end{matrix}\\right]\\right)$"
      ],
      "text/plain": [
       "⎛⎡1  0⎤  ⎡   2      ⎤  ⎡1  0⎤⎞\n",
       "⎜⎢    ⎥  ⎢2⋅ℏ    0  ⎥  ⎢    ⎥⎟\n",
       "⎜⎢0  1⎥, ⎢          ⎥, ⎢0  1⎥⎟\n",
       "⎜⎢    ⎥  ⎢         2⎥  ⎢    ⎥⎟\n",
       "⎝⎣0  0⎦  ⎣ 0    2⋅ℏ ⎦  ⎣0  0⎦⎠"
      ]
     },
     "execution_count": 26,
     "metadata": {},
     "output_type": "execute_result"
    }
   ],
   "source": [
    "(sp * sm).singular_value_decomposition()"
   ]
  },
  {
   "cell_type": "code",
   "execution_count": 27,
   "id": "2141f29e-de92-43ae-8162-0b092d38c563",
   "metadata": {},
   "outputs": [
    {
     "data": {
      "image/png": "[encoded data removed]",
      "text/latex": [
       "$\\displaystyle \\left( \\left[\\begin{matrix}0 & 0\\\\1 & 0\\\\0 & 1\\end{matrix}\\right], \\  \\left[\\begin{matrix}2 \\hbar^{2} & 0\\\\0 & 2 \\hbar^{2}\\end{matrix}\\right], \\  \\left[\\begin{matrix}0 & 0\\\\1 & 0\\\\0 & 1\\end{matrix}\\right]\\right)$"
      ],
      "text/plain": [
       "⎛⎡0  0⎤  ⎡   2      ⎤  ⎡0  0⎤⎞\n",
       "⎜⎢    ⎥  ⎢2⋅ℏ    0  ⎥  ⎢    ⎥⎟\n",
       "⎜⎢1  0⎥, ⎢          ⎥, ⎢1  0⎥⎟\n",
       "⎜⎢    ⎥  ⎢         2⎥  ⎢    ⎥⎟\n",
       "⎝⎣0  1⎦  ⎣ 0    2⋅ℏ ⎦  ⎣0  1⎦⎠"
      ]
     },
     "execution_count": 27,
     "metadata": {},
     "output_type": "execute_result"
    }
   ],
   "source": [
    "(sm * sp).singular_value_decomposition()"
   ]
  }
 ],
 "metadata": {
  "kernelspec": {
   "display_name": "Python 3 (ipykernel)",
   "language": "python",
   "name": "python3"
  },
  "language_info": {
   "codemirror_mode": {
    "name": "ipython",
    "version": 3
   },
   "file_extension": ".py",
   "mimetype": "text/x-python",
   "name": "python",
   "nbconvert_exporter": "python",
   "pygments_lexer": "ipython3",
   "version": "3.8.6"
  }
 },
 "nbformat": 4,
 "nbformat_minor": 5
}
