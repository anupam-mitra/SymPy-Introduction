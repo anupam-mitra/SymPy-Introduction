{
 "cells": [
  {
   "cell_type": "markdown",
   "id": "9e0d7deb-1da1-4416-8391-23e354d6cba9",
   "metadata": {
    "tags": []
   },
   "source": [
    "# Calculus\n",
    "We can use computer algebra systems like `sympy` to do calculus. Here we will discuss, differentiation, integration and limits."
   ]
  },
  {
   "cell_type": "code",
   "execution_count": null,
   "id": "415281fb-efd8-4f88-bd1a-ca0ace6aadd6",
   "metadata": {},
   "outputs": [],
   "source": [
    "import sympy as sy\n",
    "sy.init_printing()"
   ]
  },
  {
   "cell_type": "markdown",
   "id": "5b367d1a-3de3-4523-a2c8-6346da7e525d",
   "metadata": {
    "tags": []
   },
   "source": [
    "## Differentiation\n",
    "\n",
    "First let us see `sympy` something simple. We know that the derivative of $e^{kx}$ with respect to $x$ is $k e^{kx}$. Let us see `sympy` do this. We take the following steps.\n",
    "\n",
    "- Define a symbol `x`\n",
    "- Define a symbol `k`\n",
    "- Define a variable `f` which has the expression we want, using `sympy.exp` for the exponential function and usual `*` for multiplication and `/` for division.\n",
    "- Use the function `sympy.diff` to differentiate `f` with respect to `x`."
   ]
  },
  {
   "cell_type": "code",
   "execution_count": null,
   "id": "8c80e40b-c1ab-4fed-9959-06922d3e4d77",
   "metadata": {
    "tags": []
   },
   "outputs": [],
   "source": [
    "# Differentation of k*exp(k)\n",
    "x = sy.Symbol('x')\n",
    "k = sy.symbols('k')\n",
    "exp_kx = sy.exp(k*x)\n",
    "sy.diff(exp_kx, x)"
   ]
  },
  {
   "cell_type": "markdown",
   "id": "39224b43-4f54-44af-a024-32d46a7184a1",
   "metadata": {
    "jp-MarkdownHeadingCollapsed": true,
    "tags": []
   },
   "source": [
    "Next let us try something more complicated. Consider the function $V(r) = \\frac{C}{r}$, which is ubiquitous in physics. Let us imagine this is the electric potential of a point charge at the origin. We want the three Cartesian components of the Electric Field. We do this as follows.\n",
    "\n",
    "- Define symbols `x`, `y`, `z`\n",
    "- Define a symbol `r` using the function `sympy.sqrt`, that is `r = sympy.sqrt(x**2 + y**2 + z**2)`\n",
    "- Define a symbol `C`\n",
    "- Define `V` as the ratio of `C` and `r`.\n",
    "- Define `Ex` to be the derivative of `V` with respect to `x`\n",
    "- Define `Ey` to be the derivative of `V` with respect to `y`\n",
    "- Define `Ez` to be the derivative of `V` with respect to `z`\n",
    "- Display the values of `Ex`, `Ey` and `Ez` with the expression `(Ex, Ey, Ez)`"
   ]
  },
  {
   "cell_type": "code",
   "execution_count": null,
   "id": "55202a8f-aeec-4d57-81ed-3216c5367d9a",
   "metadata": {
    "collapsed": false,
    "jupyter": {
     "outputs_hidden": false
    }
   },
   "outputs": [],
   "source": [
    "# Electric field of a point charge at the origin from the potential\n",
    "x, y, z = sy.symbols('x, y, z')\n",
    "r = sy.sqrt(x**2 + y**2 + z**2)\n",
    "C = sy.Symbol('C')\n",
    "V = C / r\n",
    "Ex = -sy.diff(V, x)\n",
    "Ey = -sy.diff(V, y)\n",
    "Ez = -sy.diff(V, z)\n",
    "(Ex, Ey, Ez)"
   ]
  },
  {
   "cell_type": "markdown",
   "id": "77412e09-dd0f-44da-87b7-a2b7b4a9f420",
   "metadata": {
    "tags": []
   },
   "source": [
    "## Integration\n",
    "\n",
    "Computer algebra systems like `sympy` can perform definite and indefinite integration. \n",
    "\n",
    "First we look at definite integrals. Let us consider the is the following definite integral.\n",
    "$$\\int_{0}^{2\\pi} d\\phi (\\sin(\\phi))^2$$\n",
    "We know the answer is $\\pi$. Let us do this in `sympy`.\n",
    "\n",
    "We do this as follows.\n",
    "- Define a symbol `phi`\n",
    "- Define an expression `sin_sq` which uses `sympy.sin` to compute the sine of a function symbolically\n",
    "- Use `sympy.integrate` to integrate our function `sin_sq` with respect to `phi` from `0` to `2*sympy.pi`. We denote the bounds as `(phi, 0, 2*sympy.pi)`"
   ]
  },
  {
   "cell_type": "code",
   "execution_count": null,
   "id": "05e3e863-61f8-410c-88d1-a4d0a1c295bc",
   "metadata": {
    "collapsed": false,
    "jupyter": {
     "outputs_hidden": false
    }
   },
   "outputs": [],
   "source": [
    "# Definite integraion of (sin(phi))^2\n",
    "phi = sy.symbols('phi')\n",
    "sin_sq = sy.sin(phi)**2\n",
    "sy.integrate(sin_sq, (phi, 0, 2*sy.pi))"
   ]
  },
  {
   "cell_type": "markdown",
   "id": "a756064a-49ee-438b-89e9-49d813e266f2",
   "metadata": {},
   "source": [
    "Next we consider indefinite integration. We consider the following indefinite integral.\n",
    "$$\\int d\\phi (\\sin(\\phi))^2$$\n",
    " \n",
    "Let us do this in `sympy`. We do this as follows.\n",
    "- Define a symbol `phi`\n",
    "- Define an expression `sin_sq` which uses `sympy.sin` to compute the sine of a function symbolically\n",
    "- Use `sympy.integrate` to integrate our function `sin_sq` with respect to `phi`. No bounds are required as this is an an indefinite integral."
   ]
  },
  {
   "cell_type": "code",
   "execution_count": null,
   "id": "b5394b12-ad9c-496f-879d-7d93bd911d6d",
   "metadata": {
    "collapsed": false,
    "jupyter": {
     "outputs_hidden": false
    }
   },
   "outputs": [],
   "source": [
    "# Indefinite integration of (sin(phi))^2\n",
    "phi = sy.symbols('phi')\n",
    "sin_sq = sy.sin(phi)**2\n",
    "sy.integrate(sin_sq, phi)"
   ]
  },
  {
   "cell_type": "markdown",
   "id": "69e91d22-1cfe-463e-8a46-62afd16d6dfb",
   "metadata": {},
   "source": [
    "Next, we consider a Gaussian integral\n",
    "$$\n",
    "\\int_{-\\infty}^{+\\infty} \\mathrm{d} y \n",
    "\\exp\\left( - ay^2 + by\\right)\n",
    "$$\n",
    "- Define a symbol `y` which is the variable integrated over. Define a symbol `a` which is constant for the purpose of integration.\n",
    "- Define an expression `exp_quad_y` which uses `sympy.exp` to calculate the Gaussian function symbolically.\n",
    "- Use sympy.integrate to integrate our function `exp_quad_y` with respect to `y`.\n",
    "- The bounds of the integral are $-\\infty$ to $+\\infty$ which are represented using `-sympy.oo` and `sympy.oo` respectively"
   ]
  },
  {
   "cell_type": "code",
   "execution_count": null,
   "id": "d10df7d7-425a-4ef1-8120-3df38478504f",
   "metadata": {},
   "outputs": [],
   "source": [
    "# Gaussian integral\n",
    "y = sy.Symbol('y')\n",
    "a = sy.Symbol('A', positive=True)\n",
    "exp_quad_y = sy.exp(- a * y**2)\n",
    "integral_exp_quad_y = sy.integrate(exp_quad_y, (y, -sy.oo, sy.oo))\n",
    "\n",
    "integral_exp_quad_y"
   ]
  },
  {
   "cell_type": "markdown",
   "id": "19dec1ec-f292-4fa2-b0a9-e5ae8326f860",
   "metadata": {},
   "source": [
    "## Energy eigenfunctions for 1 dimensional quantum harmonic oscillator\n",
    "\n",
    "Let us do some quantum mechanics. We consider a particle of mass $M$ in a one dimensional quantum harmonic oscillator of frequency $\\omega$. The Hamiltonian is $H = \\frac{\\hat{P}^2}{2M} + \\frac{M\\omega^2\\hat{Q}^2}{2}$, where $\\hat{P}$ and $\\hat{Q}$ are the momentum and position operators respectively.\n",
    "\n",
    "Choosing dimensionless momentum and position operators $\\hat{p} = \\sqrt{\\frac{1}{M\\hbar\\omega}} \\hat{P}$ and $\\hat{q} = \\sqrt{\\frac{M\\omega}{\\hbar}} \\hat{Q}$, the Hamiltonian becomes $H = \\frac{\\hbar\\omega}{2}(\\hat{p}^2 + \\hat{q}^2)$.\n",
    "\n",
    "Let $p$ and $q$ denote the eigenvalues of operators $\\hat{p}$ and $\\hat{q}$. Then the energy eigenfunctions in the position representation are \n",
    "$$\\psi_n(q) = C_n H_n(q) \\exp\\left(-\\frac{1}{2}q^2\\right).$$\n",
    "\n",
    "Here $C_n$ is the normalization factor, which we can find by integrating over all $q$ and $H_n(q)$ is the $n^{\\text{th}}$ Hermite polynomial in $q$. Choosing a real $C_n$, we have\n",
    "\n",
    "$$C_n = \\left(\\int_{-\\infty}^{+\\infty}dq \\left|H_n(q) \\exp\\left(-\\frac{1}{2}q^2\\right)\\right|^2\\right)^{-1/2}$$\n",
    "\n",
    "Let us normalize some of the energy eigenfunctions. Let us consider $n = 4$. We do this as follows.\n",
    "- Define a variable `psi_un` denoting the unnormalizd function. Write `psi_un` using `sympy.special.polynomials.hermite` to get the $n^{\\text{th}}$ Hermite polynomial and `sympy.exp` to get the exponential factor.\n",
    "- Find `C_n` using the reciprocal of the square root of the integral of square of the absolute value of `psi_un`.\n",
    "    - Use `sympy.Abs` to get the absolute value of `psi_un`. Square this using `**2` to get the square of absolute value.\n",
    "    - Use `sympy.integrate` to integrate this over `x` from `- sympy.oo` to `+ sympy.oo`.\n",
    "    - Use this in an expression for `C_n`.\n",
    "- Write `psi` as a product of `C_n` and `psi_un`\n"
   ]
  },
  {
   "cell_type": "code",
   "execution_count": null,
   "id": "328975d6-8838-4a8f-afbd-180cfccc085d",
   "metadata": {
    "collapsed": false,
    "jupyter": {
     "outputs_hidden": false
    }
   },
   "outputs": [],
   "source": [
    "# Normalization of 1 dimensional harmonic oscillator energy eigenfunctions\n",
    "n = 4\n",
    "x = sy.symbols('x')\n",
    "hermite_n = sy.hermite(n, x)\n",
    "psi_n_un = hermite_n * sy.exp(-x**2/2)\n",
    "psi_n_un_norm = sy.integrate(sy.Abs(psi_n_un)**2, (x, -sy.oo, +sy.oo))\n",
    "C_n = 1 / sy.sqrt(psi_n_un_norm)\n",
    "psi_n = C_n * psi_n_un\n",
    "psi_n"
   ]
  },
  {
   "cell_type": "markdown",
   "id": "5e859e42-25b9-451c-addc-a46f12c6c0be",
   "metadata": {},
   "source": [
    "We have a way of finding the normalized energy eigenfunctions for a specific $n$. It would be great if we can do this for arbitrary values of $n$. To that end, let us define a function `psi_sho` which returns the $n^{\\text{th}}$ energy eigenfunction (in both position and momentum representation as we are working with dimensionless position and momentum) using these ideas. We use a symbol `x`, which can be either `p` or `q`. We do this as follows.\n",
    "\n",
    "- Define a function which takes a symbol `x` and an integer `n` as input\n",
    "- Let `psi_un` be the unnormalized function. Write `psi_un` using `sympy.special.polynomials.hermite` to get the $n^{\\text{th}}$ Hermite polynomial and `sympy.exp` to get the exponential factor.\n",
    "- Find `C_n` using the reciprocal of the square root of the integral of square of the absolute value of `psi_un`.\n",
    "    - Use `sympy.Abs` to get the absolute value of `psi_un`. Square this using `**2` to get the square of absolute value.\n",
    "    - Use `sympy.integrate` to integrate this over `x` from `- sympy.oo` to `+ sympy.oo`.\n",
    "    - Use this in an expression for `C_n`.\n",
    "- Write `psi` as a product of `C_n` and `psi_un`\n",
    "- Return `psi`\n",
    "\n",
    "Now let us look at the expressions for the first few energy eigenfunctions. Let us do this using the code after the function we just defined. Go ahead and play with values inside the Python comprehension denoting the range of values for which to calculate the energy eigenfunctions."
   ]
  },
  {
   "cell_type": "code",
   "execution_count": null,
   "id": "d7ab7c72-45b3-4dcc-b909-c3a7bc9ca5ac",
   "metadata": {
    "collapsed": false,
    "jupyter": {
     "outputs_hidden": false
    }
   },
   "outputs": [],
   "source": [
    "# 1d Harmonic oscillator energy eigenfunctions.\n",
    "def psi_sho(n, x):\n",
    "    '''\n",
    "    Parameters\n",
    "    ----------\n",
    "    n: integer \n",
    "    Quantum number denoting which energy eigenfunction\n",
    "    \n",
    "    x: sympy.Symbol\n",
    "    Symbol denoting the dimensionless parameter which\n",
    "    is the argument of the energy eigenfunction\n",
    "    \n",
    "    Returns\n",
    "    -------\n",
    "    psi:\n",
    "    Expression representing the n th energy eigen function\n",
    "    '''\n",
    "    psi_un = sy.exp(-x**2/2) * sy.hermite(n, x)\n",
    "    psi_un_norm = sy.integrate(sy.Abs(psi_un)**2, (x, -sy.oo, +sy.oo) )\n",
    "    C_n = 1/sy.sqrt(psi_un_norm)\n",
    "    \n",
    "    psi = C_n * psi_un\n",
    "    return psi\n",
    " "
   ]
  },
  {
   "cell_type": "code",
   "execution_count": null,
   "id": "f4884e4a-d175-41ee-bff3-28e6f1e39eaf",
   "metadata": {
    "collapsed": false,
    "jupyter": {
     "outputs_hidden": false
    }
   },
   "outputs": [],
   "source": [
    "# Compute some of the Harmonic oscillator eigenfunctions functions\n",
    "x = sy.Symbol('x')\n",
    "[psi_sho(n, x) for n in range(11, 14)]"
   ]
  },
  {
   "cell_type": "markdown",
   "id": "b9099740-cc63-46c6-be96-3a954b1c8b58",
   "metadata": {
    "tags": []
   },
   "source": [
    "## Limits\n",
    "\n",
    "Often the notation of differential calculus does not sweep out the intricacies of calculating limits of expressions, for example while calculating residues or limiting values of complicated expressions. \n",
    "\n",
    "Let us start with a simple example, the limit of function $\\frac{\\sin(x)}{x}$ as $x \\to 0$. In `sympy`, we do the following.\n",
    "\n",
    "- Define a symbol `x`.\n",
    "- Using the function `sympy.sinc`, which is the unnormalized sinc function [https://en.wikipedia.org/wiki/Sinc_function]\n",
    "- Use `sympy.limit` to find the limit of `sinc_unorm` at `x` goes to 0."
   ]
  },
  {
   "cell_type": "code",
   "execution_count": null,
   "id": "7bb51609-a9d7-4a95-aea8-f282ad182322",
   "metadata": {
    "collapsed": false,
    "jupyter": {
     "outputs_hidden": false
    }
   },
   "outputs": [],
   "source": [
    "# Limit of sin(x)/(x) as x goes to 0\n",
    "x = sy.Symbol('x')\n",
    "sinc_unorm = sy.sinc(x)\n",
    "sy.limit(sinc_unorm, x, 0)"
   ]
  },
  {
   "cell_type": "markdown",
   "id": "58dd5087-8b7d-4d45-86be-f5dbfb1e6166",
   "metadata": {
    "tags": []
   },
   "source": [
    "Now let us consider the normalized sinc function $\\frac{\\sin(\\pi x)}{\\pi x}$ and its limit as $x \\to 0$. For this we need to define our own function `sinc_norm` which is the normalized sinc function. See, for instance, [https://en.wikipedia.org/wiki/Sinc_function]. We do the following\n",
    "\n",
    "- Define a symbol `x`.\n",
    "- Using the function `sympy.sin` and the symbol `sympy.pi`, define a function `sinc_norm` which is the unnormalized sinc function [https://en.wikipedia.org/wiki/Sinc_function]\n",
    "- Use `sympy.limit` to find the limit of `sinc_norm` at `x` goes to 0.\n",
    "\n",
    "Note for those who use MATLAB/Octave: in MATLAB/Octave, the `sinc` function is the normalized sinc function."
   ]
  },
  {
   "cell_type": "code",
   "execution_count": null,
   "id": "03db21c6-66c3-47a7-95a5-9cf30e8037fd",
   "metadata": {
    "collapsed": false,
    "jupyter": {
     "outputs_hidden": false
    }
   },
   "outputs": [],
   "source": [
    "# Limit of sin(pi*x)/(pi*x) as x goes to 0\n",
    "x = sy.Symbol('x')\n",
    "sinc_norm = sy.sin(sy.pi*x) / (sy.pi * x)\n",
    "sy.limit(sinc_norm, x, 0)"
   ]
  },
  {
   "cell_type": "markdown",
   "id": "fb88769f-5bae-42da-9195-ca795d21817d",
   "metadata": {
    "tags": []
   },
   "source": [
    "Next we consider an expression of the form $\\frac{e^{-kr}}{r}$. We want to find its limiting value as $r \\to \\infty$. We assume $k > 0$. For this we do the following.\n",
    "- Define a symbol `x`\n",
    "- Define a symbol `k`. Declare it to be positive, using `positive=True` as an argument of `sympy.Symbol`\n",
    "- Use the function `sympy.exp` to define a function `exp_kr_over_r` which represents the expression  $\\frac{e^{-kr}}{r}$\n",
    "- Use `sympy.limit` to find the limit of `exp_kr_over_r` at `x` goes to `sympy.oo`. Here `sympy.oo` is the symbol which `sympy` uses to represent $\\infty$."
   ]
  },
  {
   "cell_type": "code",
   "execution_count": null,
   "id": "e5e5b3f6-93a6-4371-9012-5f76408a16ef",
   "metadata": {
    "collapsed": false,
    "jupyter": {
     "outputs_hidden": false
    }
   },
   "outputs": [],
   "source": [
    "# Limit of exp(-k*r)/r as r goes to infinity\n",
    "r = sy.Symbol('r')\n",
    "k = sy.Symbol('k', positive=True)\n",
    "exp_kr_over_r = sy.exp(-k*r) / r\n",
    "sy.limit(exp_kr_over_r, r, sy.oo)"
   ]
  }
 ],
 "metadata": {
  "kernelspec": {
   "display_name": "Python 3 (ipykernel)",
   "language": "python",
   "name": "python3"
  },
  "language_info": {
   "codemirror_mode": {
    "name": "ipython",
    "version": 3
   },
   "file_extension": ".py",
   "mimetype": "text/x-python",
   "name": "python",
   "nbconvert_exporter": "python",
   "pygments_lexer": "ipython3",
   "version": "3.8.6"
  }
 },
 "nbformat": 4,
 "nbformat_minor": 5
}
