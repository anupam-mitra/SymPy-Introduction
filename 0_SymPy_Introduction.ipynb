{
 "cells": [
  {
   "cell_type": "markdown",
   "id": "f808566a-c68f-4fe6-b259-bea917247b4c",
   "metadata": {},
   "source": [
    "- title: Introduction to computer algebra in Python with sympy\n",
    "- date: 2021-09-17\n",
    "\n",
    "Computer algebra involves using computers to manipulate mathematical symbols. This is different from numerical computation, which involves using computers to handle mathematical expressions numerically. I will introduce `sympy`, a Python library for working with mathematical symbols and discuss examples from linear algebra, calculus and some physics applications."
   ]
  },
  {
   "cell_type": "markdown",
   "id": "ab5f80dc-ea0f-4db7-8a3f-ef0d31fe2724",
   "metadata": {},
   "source": [
    "# Limits of numerical precision"
   ]
  },
  {
   "cell_type": "markdown",
   "id": "457d1714-b76d-4ea7-b763-5cafc203b95b",
   "metadata": {},
   "source": [
    "## Introduction"
   ]
  },
  {
   "cell_type": "markdown",
   "id": "0eafbf20-40a9-469c-9cb3-d9baca7ffca0",
   "metadata": {},
   "source": [
    "\n",
    "First, we need to import a library for symbolic computation. We'll be using\n",
    "`sympy` for this purpose. We'll also import `numpy` for a few comparisons.\n",
    "\n",
    "I recommend avoiding `from sympy import *` (even though this is used in the\n",
    "[`sympy` tutorial](http://docs.sympy.org/latest/tutorial/)), since we will\n",
    "want to use some functions, like `sqrt`, from both a symbolic and a numeric\n",
    "library."
   ]
  },
  {
   "cell_type": "code",
   "execution_count": 1,
   "id": "91be9317-b78f-4ad8-a0cd-92ad0509ec0a",
   "metadata": {
    "tags": []
   },
   "outputs": [],
   "source": [
    "import numpy as np\n",
    "import sympy as sy"
   ]
  },
  {
   "cell_type": "markdown",
   "id": "74d080e5-7fee-4c6e-a921-6a9a3d166a2d",
   "metadata": {},
   "source": [
    "Sometimes we have an exact expression that is corrupted by\n",
    "the numerical imprecision of a library like `numpy`. For example,\n",
    "consider $\\sqrt{3}$. `numpy` gives us a floating point approximation that doesn't\n",
    "have all the properties we might like:"
   ]
  },
  {
   "cell_type": "code",
   "execution_count": 2,
   "id": "b0066050-c8e7-457f-ad89-957ef4e7850e",
   "metadata": {
    "collapsed": false,
    "jupyter": {
     "outputs_hidden": false
    }
   },
   "outputs": [
    {
     "data": {
      "text/plain": [
       "1.7320508075688772"
      ]
     },
     "execution_count": 2,
     "metadata": {},
     "output_type": "execute_result"
    }
   ],
   "source": [
    "np.sqrt(3)"
   ]
  },
  {
   "cell_type": "code",
   "execution_count": 3,
   "id": "ce9a865e-aa41-4428-ab1c-4668ae48c99d",
   "metadata": {
    "collapsed": false,
    "jupyter": {
     "outputs_hidden": false
    }
   },
   "outputs": [
    {
     "data": {
      "text/plain": [
       "-4.440892098500626e-16"
      ]
     },
     "execution_count": 3,
     "metadata": {},
     "output_type": "execute_result"
    }
   ],
   "source": [
    "np.sqrt(3)**2 - 3"
   ]
  },
  {
   "cell_type": "markdown",
   "id": "de3e7863-7d84-4b0b-917b-22677b28a2b9",
   "metadata": {},
   "source": [
    "`sympy` gives us an object that has the properties we want:"
   ]
  },
  {
   "cell_type": "code",
   "execution_count": 4,
   "id": "c15fba50-6232-4cad-8a15-554705b3b6aa",
   "metadata": {
    "collapsed": false,
    "jupyter": {
     "outputs_hidden": false
    }
   },
   "outputs": [
    {
     "data": {
      "text/latex": [
       "$\\displaystyle \\sqrt{3}$"
      ],
      "text/plain": [
       "sqrt(3)"
      ]
     },
     "execution_count": 4,
     "metadata": {},
     "output_type": "execute_result"
    }
   ],
   "source": [
    "sy.sqrt(3)"
   ]
  },
  {
   "cell_type": "code",
   "execution_count": 5,
   "id": "7beffdb5-6673-44bc-9fdf-058062dc084c",
   "metadata": {
    "collapsed": false,
    "jupyter": {
     "outputs_hidden": false
    }
   },
   "outputs": [
    {
     "data": {
      "text/latex": [
       "$\\displaystyle 0$"
      ],
      "text/plain": [
       "0"
      ]
     },
     "execution_count": 5,
     "metadata": {},
     "output_type": "execute_result"
    }
   ],
   "source": [
    "sy.sqrt(3)**2 - 3"
   ]
  },
  {
   "cell_type": "markdown",
   "id": "092d49ce-2fa0-40a3-bac0-116c6b4fba78",
   "metadata": {},
   "source": [
    "`sympy` is also capable of displaying expressions in a more human-friendly\n",
    "format."
   ]
  },
  {
   "cell_type": "code",
   "execution_count": 6,
   "id": "cfc8f7b9-77d6-4919-9001-db07fd5d4176",
   "metadata": {
    "tags": []
   },
   "outputs": [],
   "source": [
    "sy.init_printing()"
   ]
  },
  {
   "cell_type": "code",
   "execution_count": 7,
   "id": "04446a3e-52db-4389-ae5f-cac17c72c947",
   "metadata": {
    "collapsed": false,
    "jupyter": {
     "outputs_hidden": false
    }
   },
   "outputs": [
    {
     "data": {
      "image/png": "[encoded data removed]",
      "text/latex": [
       "$\\displaystyle \\sqrt{3}$"
      ],
      "text/plain": [
       "√3"
      ]
     },
     "execution_count": 7,
     "metadata": {},
     "output_type": "execute_result"
    }
   ],
   "source": [
    "sy.sqrt(3)"
   ]
  },
  {
   "cell_type": "markdown",
   "id": "78ed128c-1c26-4160-b849-b121ec413488",
   "metadata": {},
   "source": [
    "The real power of `sympy` is the ability to manipulate variables. Some computer algebra systems (CAS) allow the user to immediately input expressions with variables. An example is [maxima](https://maxima.sourceforge.io)"
   ]
  },
  {
   "cell_type": "markdown",
   "id": "1d58d8df-448e-4c79-b511-b9fcbff063e4",
   "metadata": {},
   "source": [
    "Since `sympy` is used within a full Python programming environment, we need to do a little setup first and define some *Python* variables to function as our symbolic variables."
   ]
  },
  {
   "cell_type": "code",
   "execution_count": 8,
   "id": "975d0190-99dd-4aac-9d07-c3f7c0a1270d",
   "metadata": {
    "collapsed": false,
    "jupyter": {
     "outputs_hidden": false
    }
   },
   "outputs": [
    {
     "data": {
      "image/png": "[encoded data removed]",
      "text/latex": [
       "$\\displaystyle \\left( x, \\  y, \\  z\\right)$"
      ],
      "text/plain": [
       "(x, y, z)"
      ]
     },
     "execution_count": 8,
     "metadata": {},
     "output_type": "execute_result"
    }
   ],
   "source": [
    "x, y, z = sy.symbols('x y z')\n",
    "x, y, z"
   ]
  },
  {
   "cell_type": "code",
   "execution_count": 9,
   "id": "bd00cb75-55d2-4902-99a7-641273ba88e7",
   "metadata": {
    "collapsed": false,
    "jupyter": {
     "outputs_hidden": false
    }
   },
   "outputs": [
    {
     "data": {
      "image/png": "[encoded data removed]",
      "text/latex": [
       "$\\displaystyle x + y$"
      ],
      "text/plain": [
       "x + y"
      ]
     },
     "execution_count": 9,
     "metadata": {},
     "output_type": "execute_result"
    }
   ],
   "source": [
    "x + y"
   ]
  },
  {
   "cell_type": "markdown",
   "id": "cd989bce-1fc8-44dd-9921-d392eb46c629",
   "metadata": {},
   "source": [
    "## Expressions"
   ]
  },
  {
   "cell_type": "markdown",
   "id": "0aa9aa7f-502d-4dcf-9b40-4b3f6fa3cfb3",
   "metadata": {},
   "source": [
    "We can make all kinds of expressions in `sympy` using both arithmetic operators from Python\n",
    "(to which `sympy` gives special meaning) and functions that `sympy` provides for us:"
   ]
  },
  {
   "cell_type": "code",
   "execution_count": 10,
   "id": "4733e904-f926-4fc6-93dd-5aca1c3520af",
   "metadata": {
    "collapsed": false,
    "jupyter": {
     "outputs_hidden": false
    }
   },
   "outputs": [
    {
     "data": {
      "image/png": "[encoded data removed]",
      "text/latex": [
       "$\\displaystyle x y + z^{2}$"
      ],
      "text/plain": [
       "       2\n",
       "x⋅y + z "
      ]
     },
     "execution_count": 10,
     "metadata": {},
     "output_type": "execute_result"
    }
   ],
   "source": [
    "x * y + z **2"
   ]
  },
  {
   "cell_type": "markdown",
   "id": "505f914a-c09f-487e-8954-b6d7ed4f5e65",
   "metadata": {},
   "source": [
    "Just like with `sqrt`, `sympy` can hold exact values of `sin`, whereas `numpy` gives a floating-point\n",
    "approximation:"
   ]
  },
  {
   "cell_type": "code",
   "execution_count": 11,
   "id": "4463e697-a81e-463c-be19-96b7f0f1b326",
   "metadata": {
    "collapsed": false,
    "jupyter": {
     "outputs_hidden": false
    }
   },
   "outputs": [
    {
     "data": {
      "image/png": "[encoded data removed]",
      "text/latex": [
       "$\\displaystyle \\sin^{2}{\\left(x \\right)} + \\cos^{2}{\\left(x \\right)}$"
      ],
      "text/plain": [
       "   2         2   \n",
       "sin (x) + cos (x)"
      ]
     },
     "execution_count": 11,
     "metadata": {},
     "output_type": "execute_result"
    }
   ],
   "source": [
    "sy.sin(x)**2 + sy.cos(x)**2"
   ]
  },
  {
   "cell_type": "code",
   "execution_count": 12,
   "id": "d22298f2-9848-4ac2-9224-912367534b6a",
   "metadata": {
    "tags": []
   },
   "outputs": [
    {
     "data": {
      "image/png": "[encoded data removed]",
      "text/latex": [
       "$\\displaystyle \\sin^{2}{\\left(x \\right)} + \\cos^{2}{\\left(x \\right)}$"
      ],
      "text/plain": [
       "   2         2   \n",
       "sin (x) + cos (x)"
      ]
     },
     "execution_count": 12,
     "metadata": {},
     "output_type": "execute_result"
    }
   ],
   "source": [
    "s2c2 = sy.sin(x)**2 + sy.cos(x)**2\n",
    "\n",
    "s2c2"
   ]
  },
  {
   "cell_type": "markdown",
   "id": "0d80ac0e-8483-48e4-af18-ea498ee2ad19",
   "metadata": {},
   "source": [
    "### Simplification"
   ]
  },
  {
   "cell_type": "markdown",
   "id": "789e1897-3c63-4b5e-a771-cec9f8f0c38f",
   "metadata": {},
   "source": [
    "A lot of times we want to manipulate an expression without changing what it represents. `sympy`\n",
    "has a variety of functions for doing this. `simplify` is the most generic:"
   ]
  },
  {
   "cell_type": "code",
   "execution_count": 13,
   "id": "4ecc0477-9b45-4d9e-b93b-198f92465f94",
   "metadata": {
    "collapsed": false,
    "jupyter": {
     "outputs_hidden": false
    }
   },
   "outputs": [
    {
     "data": {
      "image/png": "[encoded data removed]",
      "text/latex": [
       "$\\displaystyle 1$"
      ],
      "text/plain": [
       "1"
      ]
     },
     "execution_count": 13,
     "metadata": {},
     "output_type": "execute_result"
    }
   ],
   "source": [
    "sy.simplify(sy.sin(x)**2 + sy.cos(x)**2)"
   ]
  },
  {
   "cell_type": "code",
   "execution_count": 14,
   "id": "6cb7687f-af4f-4ada-ad09-2ca2685589d7",
   "metadata": {
    "collapsed": false,
    "jupyter": {
     "outputs_hidden": false
    }
   },
   "outputs": [
    {
     "data": {
      "image/png": "[encoded data removed]",
      "text/latex": [
       "$\\displaystyle 1$"
      ],
      "text/plain": [
       "1"
      ]
     },
     "execution_count": 14,
     "metadata": {},
     "output_type": "execute_result"
    }
   ],
   "source": [
    "sy.simplify(s2c2)"
   ]
  },
  {
   "cell_type": "code",
   "execution_count": 15,
   "id": "949687a7-08d8-4187-8aad-eaa82950a75b",
   "metadata": {
    "collapsed": false,
    "jupyter": {
     "outputs_hidden": false
    }
   },
   "outputs": [
    {
     "data": {
      "text/plain": [
       "sympy.core.add.Add"
      ]
     },
     "execution_count": 15,
     "metadata": {},
     "output_type": "execute_result"
    }
   ],
   "source": [
    "type(s2c2)"
   ]
  },
  {
   "cell_type": "code",
   "execution_count": 16,
   "id": "589d1c4e-8db4-4790-8ebe-caa13157ff44",
   "metadata": {
    "collapsed": false,
    "jupyter": {
     "outputs_hidden": false
    }
   },
   "outputs": [
    {
     "data": {
      "text/plain": [
       "sympy.core.symbol.Symbol"
      ]
     },
     "execution_count": 16,
     "metadata": {},
     "output_type": "execute_result"
    }
   ],
   "source": [
    "type(x)"
   ]
  },
  {
   "cell_type": "markdown",
   "id": "1a7364c1-7fc0-4b68-a7b1-6df1271acad7",
   "metadata": {},
   "source": [
    "Sometimes `sympy` doesn't automatically know what we mean by \"simple\", so there are functions to\n",
    "put expressions in particular forms. For instance, we might want to expand $(x+y)(x-y)$ to\n",
    "$x^2-y^2$:"
   ]
  },
  {
   "cell_type": "code",
   "execution_count": 17,
   "id": "9fc91365-ee77-4e0f-9fa8-d9b65d5cecf9",
   "metadata": {
    "collapsed": false,
    "jupyter": {
     "outputs_hidden": false
    }
   },
   "outputs": [
    {
     "data": {
      "image/png": "[encoded data removed]",
      "text/latex": [
       "$\\displaystyle \\left(x - y\\right) \\left(x + y\\right)$"
      ],
      "text/plain": [
       "(x - y)⋅(x + y)"
      ]
     },
     "execution_count": 17,
     "metadata": {},
     "output_type": "execute_result"
    }
   ],
   "source": [
    "expr = (x + y) * (x - y)\n",
    "expr"
   ]
  },
  {
   "cell_type": "code",
   "execution_count": 18,
   "id": "4480f520-3b98-4503-8590-c74e84776588",
   "metadata": {
    "collapsed": false,
    "jupyter": {
     "outputs_hidden": false
    }
   },
   "outputs": [
    {
     "data": {
      "image/png": "[encoded data removed]",
      "text/latex": [
       "$\\displaystyle \\left(x - y\\right) \\left(x + y\\right)$"
      ],
      "text/plain": [
       "(x - y)⋅(x + y)"
      ]
     },
     "execution_count": 18,
     "metadata": {},
     "output_type": "execute_result"
    }
   ],
   "source": [
    "sy.simplify(expr)"
   ]
  },
  {
   "cell_type": "code",
   "execution_count": 19,
   "id": "9a4d5a0b-48dc-4830-a600-e89abd1caa53",
   "metadata": {
    "collapsed": false,
    "jupyter": {
     "outputs_hidden": false
    }
   },
   "outputs": [
    {
     "data": {
      "image/png": "[encoded data removed]",
      "text/latex": [
       "$\\displaystyle x^{2} - y^{2}$"
      ],
      "text/plain": [
       " 2    2\n",
       "x  - y "
      ]
     },
     "execution_count": 19,
     "metadata": {},
     "output_type": "execute_result"
    }
   ],
   "source": [
    "sy.expand(expr)"
   ]
  },
  {
   "cell_type": "markdown",
   "id": "fcd0ed25-ae7d-4f04-922e-dd0192df67cf",
   "metadata": {},
   "source": [
    "We might also want to go the other way:"
   ]
  },
  {
   "cell_type": "code",
   "execution_count": 20,
   "id": "2dfadd43-a5c0-4945-861c-e3d6f0a691db",
   "metadata": {
    "collapsed": false,
    "jupyter": {
     "outputs_hidden": false
    }
   },
   "outputs": [
    {
     "data": {
      "image/png": "[encoded data removed]",
      "text/latex": [
       "$\\displaystyle \\left(x - y\\right) \\left(x + y\\right)$"
      ],
      "text/plain": [
       "(x - y)⋅(x + y)"
      ]
     },
     "execution_count": 20,
     "metadata": {},
     "output_type": "execute_result"
    }
   ],
   "source": [
    "sy.factor(x**2 - y**2)"
   ]
  },
  {
   "cell_type": "markdown",
   "id": "8e11a6ac-47b5-43ea-aa6d-dedaf16a1ab9",
   "metadata": {},
   "source": [
    "See more examples in the tutorial section\n",
    "[Simplification](http://docs.sympy.org/latest/tutorial/simplification.html)."
   ]
  },
  {
   "cell_type": "markdown",
   "id": "39ad96ee-1487-47fa-aa0f-4a2f04895a23",
   "metadata": {},
   "source": [
    "### Example: checking a phase"
   ]
  },
  {
   "cell_type": "markdown",
   "id": "61c403b1-bf56-447d-8747-ce7f92c9ff6d",
   "metadata": {},
   "source": [
    "Sometimes we want to verify properties of our expressions, e.g. show that the\n",
    "magnitude of a complex phase is 1. Let's set up some real variables $a$ and $b$\n",
    "for the real and imaginary parts of a complex number $c=a+ib$:"
   ]
  },
  {
   "cell_type": "code",
   "execution_count": 21,
   "id": "87f7c6c2-40ed-4fde-9a32-4082c79d33ff",
   "metadata": {
    "collapsed": false,
    "jupyter": {
     "outputs_hidden": false
    }
   },
   "outputs": [
    {
     "data": {
      "image/png": "[encoded data removed]",
      "text/latex": [
       "$\\displaystyle \\left( a, \\  b\\right)$"
      ],
      "text/plain": [
       "(a, b)"
      ]
     },
     "execution_count": 21,
     "metadata": {},
     "output_type": "execute_result"
    }
   ],
   "source": [
    "a, b = sy.symbols('a b', real=True)\n",
    "a, b"
   ]
  },
  {
   "cell_type": "markdown",
   "id": "66588e18-7c37-4287-8d2b-bf37015b6bf8",
   "metadata": {},
   "source": [
    "`sympy` knows that $a$ and $b$ are real, so they remain unchanged when we take their complex conjugates:"
   ]
  },
  {
   "cell_type": "code",
   "execution_count": 22,
   "id": "5726f3db-451c-4568-9909-6c01175416c0",
   "metadata": {
    "collapsed": false,
    "jupyter": {
     "outputs_hidden": false
    }
   },
   "outputs": [
    {
     "data": {
      "image/png": "[encoded data removed]",
      "text/latex": [
       "$\\displaystyle a$"
      ],
      "text/plain": [
       "a"
      ]
     },
     "execution_count": 22,
     "metadata": {},
     "output_type": "execute_result"
    }
   ],
   "source": [
    "a.conjugate()"
   ]
  },
  {
   "cell_type": "code",
   "execution_count": 23,
   "id": "8d88b395-ab5c-430f-8475-beb9de23347c",
   "metadata": {
    "collapsed": false,
    "jupyter": {
     "outputs_hidden": false
    }
   },
   "outputs": [
    {
     "data": {
      "image/png": "[encoded data removed]",
      "text/latex": [
       "$\\displaystyle \\overline{x}$"
      ],
      "text/plain": [
       "_\n",
       "x"
      ]
     },
     "execution_count": 23,
     "metadata": {},
     "output_type": "execute_result"
    }
   ],
   "source": [
    "x.conjugate()"
   ]
  },
  {
   "cell_type": "markdown",
   "id": "6feeab08-2a12-46ff-8927-046360c7f022",
   "metadata": {},
   "source": [
    "Let's express the phase of $a+bi$ using `sympy`:"
   ]
  },
  {
   "cell_type": "code",
   "execution_count": 24,
   "id": "338b4134-f348-4f01-a148-300452c04da4",
   "metadata": {
    "collapsed": false,
    "jupyter": {
     "outputs_hidden": false
    }
   },
   "outputs": [
    {
     "data": {
      "image/png": "[encoded data removed]",
      "text/latex": [
       "$\\displaystyle a + i b$"
      ],
      "text/plain": [
       "a + ⅈ⋅b"
      ]
     },
     "execution_count": 24,
     "metadata": {},
     "output_type": "execute_result"
    }
   ],
   "source": [
    "c = a + b * sy.I\n",
    "c"
   ]
  },
  {
   "cell_type": "code",
   "execution_count": 25,
   "id": "d7f33978-631c-48ee-b9df-9b2a3358bae1",
   "metadata": {
    "collapsed": false,
    "jupyter": {
     "outputs_hidden": false
    }
   },
   "outputs": [
    {
     "data": {
      "image/png": "[encoded data removed]",
      "text/latex": [
       "$\\displaystyle \\frac{a + i b}{\\sqrt{a^{2} + b^{2}}}$"
      ],
      "text/plain": [
       "  a + ⅈ⋅b   \n",
       "────────────\n",
       "   _________\n",
       "  ╱  2    2 \n",
       "╲╱  a  + b  "
      ]
     },
     "execution_count": 25,
     "metadata": {},
     "output_type": "execute_result"
    }
   ],
   "source": [
    "phase = sy.simplify(c / sy.sqrt(c * c.conjugate()))\n",
    "phase"
   ]
  },
  {
   "cell_type": "markdown",
   "id": "05effcbc-e6bd-4c95-9fab-ee17ad64aace",
   "metadata": {},
   "source": [
    "A complex phase $\\omega$ has the property that $\\omega\\omega^*=1$. Let's see if\n",
    "our expression satisfies that property:"
   ]
  },
  {
   "cell_type": "code",
   "execution_count": 26,
   "id": "93117600-3783-48c7-9888-3712e755266e",
   "metadata": {
    "collapsed": false,
    "jupyter": {
     "outputs_hidden": false
    }
   },
   "outputs": [
    {
     "data": {
      "image/png": "[encoded data removed]",
      "text/latex": [
       "$\\displaystyle \\sqrt{a^{2} + b^{2}} \\overline{\\frac{1}{\\sqrt{a^{2} + b^{2}}}}$"
      ],
      "text/plain": [
       "   _________ ____________\n",
       "  ╱  2    2       1      \n",
       "╲╱  a  + b  ⋅────────────\n",
       "                _________\n",
       "               ╱  2    2 \n",
       "             ╲╱  a  + b  "
      ]
     },
     "execution_count": 26,
     "metadata": {},
     "output_type": "execute_result"
    }
   ],
   "source": [
    "phase_mag = sy.simplify(phase * phase.conjugate())\n",
    "phase_mag"
   ]
  },
  {
   "cell_type": "markdown",
   "id": "dc67339a-2726-4e64-9882-fc65229c922c",
   "metadata": {},
   "source": [
    "`sympy` isn't realizing that $a^2+b^2$ is positive, and that therefore the conjugation doesn't do\n",
    "anything. We can take `sympy` by the hand and manually point this out, first defining a\n",
    "pair of expressions we know are equivalent:"
   ]
  },
  {
   "cell_type": "code",
   "execution_count": 27,
   "id": "1861ee34-7dca-4e64-94c8-cc1a3e5510ac",
   "metadata": {
    "collapsed": false,
    "jupyter": {
     "outputs_hidden": false
    }
   },
   "outputs": [
    {
     "data": {
      "image/png": "[encoded data removed]",
      "text/latex": [
       "$\\displaystyle \\left( \\overline{\\frac{1}{\\sqrt{a^{2} + b^{2}}}}, \\  \\frac{1}{\\sqrt{a^{2} + b^{2}}}\\right)$"
      ],
      "text/plain": [
       "⎛____________              ⎞\n",
       "⎜     1             1      ⎟\n",
       "⎜────────────, ────────────⎟\n",
       "⎜   _________     _________⎟\n",
       "⎜  ╱  2    2     ╱  2    2 ⎟\n",
       "⎝╲╱  a  + b    ╲╱  a  + b  ⎠"
      ]
     },
     "execution_count": 27,
     "metadata": {},
     "output_type": "execute_result"
    }
   ],
   "source": [
    "subpair = ((1 / sy.sqrt(a**2 + b**2)).conjugate(),\n",
    "           1 / sy.sqrt(a**2 + b**2))\n",
    "subpair"
   ]
  },
  {
   "cell_type": "markdown",
   "id": "12ceabdc-5651-4110-b733-011f1de8c584",
   "metadata": {},
   "source": [
    "Then we can use `subs` to perform a substitution within our expression:"
   ]
  },
  {
   "cell_type": "code",
   "execution_count": 28,
   "id": "99b1e33d-5fec-4798-80c5-64396b77ed07",
   "metadata": {
    "collapsed": false,
    "jupyter": {
     "outputs_hidden": false
    }
   },
   "outputs": [
    {
     "data": {
      "image/png": "[encoded data removed]",
      "text/latex": [
       "$\\displaystyle 1$"
      ],
      "text/plain": [
       "1"
      ]
     },
     "execution_count": 28,
     "metadata": {},
     "output_type": "execute_result"
    }
   ],
   "source": [
    "phase_mag.subs([subpair])"
   ]
  },
  {
   "cell_type": "markdown",
   "id": "54f4b16b-e7c5-4f3f-944f-7d6f9c02388e",
   "metadata": {},
   "source": [
    "Sometimes you can force `sympy` to make simplifications that may note be justified\n",
    "in general. For instance, you might think $x^zy^z$ should be the same as $(xy)^z$. It\n",
    "is when $x,y,z$ are real, but `sympy` doesn't currently know they're real:"
   ]
  },
  {
   "cell_type": "code",
   "execution_count": 29,
   "id": "e0b7c883-95f4-4ff5-ae21-58109bbd39d5",
   "metadata": {
    "collapsed": false,
    "jupyter": {
     "outputs_hidden": false
    }
   },
   "outputs": [
    {
     "data": {
      "image/png": "[encoded data removed]",
      "text/latex": [
       "$\\displaystyle 0$"
      ],
      "text/plain": [
       "0"
      ]
     },
     "execution_count": 29,
     "metadata": {},
     "output_type": "execute_result"
    }
   ],
   "source": [
    "sy.powsimp((x*y)**z - x**z * y**z, force=True)"
   ]
  },
  {
   "cell_type": "markdown",
   "id": "84a440c4-8a30-47d6-baee-9c4fd2ae58c5",
   "metadata": {},
   "source": [
    "We can tell `sympy` to make simplifications that aren't justified in general by\n",
    "supplying `force=True` to the `powsimp` function:"
   ]
  },
  {
   "cell_type": "markdown",
   "id": "e4e3d4d6-bb6b-435e-bbf4-2772608bca25",
   "metadata": {},
   "source": [
    "### Displaying expressions nicely"
   ]
  },
  {
   "cell_type": "markdown",
   "id": "3a870187-bbba-4416-8a56-a15aa532124a",
   "metadata": {},
   "source": [
    "Sometimes we want to display our expressions with a little more context that `sympy` spits out.\n",
    "We can use the rich HTML rendering system of jupyter notebooks together with the `latex`\n",
    "export functionality provided by `sympy` to make our notebooks legible."
   ]
  },
  {
   "cell_type": "code",
   "execution_count": 30,
   "id": "37cd9d12-0fcb-4872-a9b7-7b09c7a09aee",
   "metadata": {
    "tags": []
   },
   "outputs": [],
   "source": [
    "from IPython.display import HTML "
   ]
  },
  {
   "cell_type": "markdown",
   "id": "95e2ce50-d0ee-42ee-ab3c-c1823dd0c8a9",
   "metadata": {},
   "source": [
    "`latex` converts a `sympy` expression to LaTeX code:"
   ]
  },
  {
   "cell_type": "code",
   "execution_count": 31,
   "id": "17f96aee-3c0a-4fc1-a657-99a44156642b",
   "metadata": {
    "collapsed": false,
    "jupyter": {
     "outputs_hidden": false
    }
   },
   "outputs": [
    {
     "data": {
      "text/plain": [
       "'\\\\frac{a + i b}{\\\\sqrt{a^{2} + b^{2}}}'"
      ]
     },
     "execution_count": 31,
     "metadata": {},
     "output_type": "execute_result"
    }
   ],
   "source": [
    "sy.latex(phase)"
   ]
  },
  {
   "cell_type": "markdown",
   "id": "0610b3d5-3cec-48c3-bb68-eea02a9ee4dd",
   "metadata": {},
   "source": [
    "If we want it rendered prettily, we need to wrap it in some math environment and explicitly use the\n",
    "`HTML` function to format it for our notebook:"
   ]
  },
  {
   "cell_type": "code",
   "execution_count": 32,
   "id": "c5e355d2-81c4-48e6-8343-257895db9a8a",
   "metadata": {
    "collapsed": false,
    "jupyter": {
     "outputs_hidden": false
    }
   },
   "outputs": [
    {
     "data": {
      "text/html": [
       "$a + i b$"
      ],
      "text/plain": [
       "<IPython.core.display.HTML object>"
      ]
     },
     "execution_count": 32,
     "metadata": {},
     "output_type": "execute_result"
    }
   ],
   "source": [
    "HTML('$' + sy.latex(c) + '$')"
   ]
  },
  {
   "cell_type": "markdown",
   "id": "1ace6d76-83ef-44ca-90eb-6c68bc9cade2",
   "metadata": {},
   "source": [
    "This is a little more verbose, but it allows us greater flexibilitym for instance adding\n",
    "context to printing out the value of $c$:"
   ]
  },
  {
   "cell_type": "code",
   "execution_count": 33,
   "id": "4fe4ee50-9751-4c3b-8fb1-7582fb6aceae",
   "metadata": {
    "collapsed": false,
    "jupyter": {
     "outputs_hidden": false
    }
   },
   "outputs": [
    {
     "data": {
      "text/html": [
       "$c=a + i b$"
      ],
      "text/plain": [
       "<IPython.core.display.HTML object>"
      ]
     },
     "execution_count": 33,
     "metadata": {},
     "output_type": "execute_result"
    }
   ],
   "source": [
    "HTML('$c=' + sy.latex(c) + '$')"
   ]
  },
  {
   "cell_type": "markdown",
   "id": "fa7a774c-9162-40f0-b652-3f27d7c9734b",
   "metadata": {},
   "source": [
    "We can even use advanced environments like align, but it will be helpful\n",
    "to use raw string literals so we don't have to worry about all the `\\`s:"
   ]
  },
  {
   "cell_type": "code",
   "execution_count": 34,
   "id": "fe4c9ca2-9e65-493a-b6ea-29db22789157",
   "metadata": {
    "collapsed": false,
    "jupyter": {
     "outputs_hidden": false
    }
   },
   "outputs": [
    {
     "data": {
      "text/html": [
       "\\begin{align}|c|&=\\sqrt{\\left(a - i b\\right) \\left(a + i b\\right)}\\\\ \\mathrm{sgn}(c)&=\\frac{a + i b}{\\sqrt{a^{2} + b^{2}}}\\end{align}"
      ],
      "text/plain": [
       "<IPython.core.display.HTML object>"
      ]
     },
     "execution_count": 34,
     "metadata": {},
     "output_type": "execute_result"
    }
   ],
   "source": [
    "HTML(r'\\begin{align}|c|&=' + sy.latex(sy.sqrt(c * c.conjugate())) + \n",
    "     r'\\\\ \\mathrm{sgn}(c)&=' + sy.latex(phase) + r'\\end{align}')"
   ]
  },
  {
   "cell_type": "markdown",
   "id": "a353464d-2449-4599-b0fc-e7fee88e52ed",
   "metadata": {},
   "source": [
    "You can also use this LaTeX in your paper. If you want to save the result of a calculation for\n",
    "future manipulation, however, it's best not to use LaTeX (since it can be ambiguous). `sympy`'s\n",
    "`srepr` function is better suited for this."
   ]
  },
  {
   "cell_type": "code",
   "execution_count": 35,
   "id": "49054220-11ea-40a7-91c9-92ce235ea3f1",
   "metadata": {
    "collapsed": false,
    "jupyter": {
     "outputs_hidden": false
    }
   },
   "outputs": [
    {
     "data": {
      "text/plain": [
       "\"Mul(Add(Symbol('a', real=True), Mul(I, Symbol('b', real=True))), Pow(Add(Pow(Symbol('a', real=True), Integer(2)), Pow(Symbol('b', real=True), Integer(2))), Rational(-1, 2)))\""
      ]
     },
     "execution_count": 35,
     "metadata": {},
     "output_type": "execute_result"
    }
   ],
   "source": [
    "saved_phase = sy.srepr(phase)\n",
    "saved_phase"
   ]
  },
  {
   "cell_type": "code",
   "execution_count": 36,
   "id": "33351d25-540b-4711-b908-eac9a97de756",
   "metadata": {},
   "outputs": [
    {
     "data": {
      "text/plain": [
       "str"
      ]
     },
     "execution_count": 36,
     "metadata": {},
     "output_type": "execute_result"
    }
   ],
   "source": [
    "type(saved_phase)"
   ]
  },
  {
   "cell_type": "markdown",
   "id": "b88504df-e70b-460d-93f7-a4d0699631e1",
   "metadata": {},
   "source": [
    "You can use `sympify` (not to be confused with `simplify`!) to convert an `srepr` string back to an expression:"
   ]
  },
  {
   "cell_type": "code",
   "execution_count": 37,
   "id": "fe88714f-20b1-4e5a-a964-63e19c0cf551",
   "metadata": {
    "collapsed": false,
    "jupyter": {
     "outputs_hidden": false
    }
   },
   "outputs": [
    {
     "data": {
      "image/png": "[encoded data removed]",
      "text/latex": [
       "$\\displaystyle \\frac{a + i b}{\\sqrt{a^{2} + b^{2}}}$"
      ],
      "text/plain": [
       "  a + ⅈ⋅b   \n",
       "────────────\n",
       "   _________\n",
       "  ╱  2    2 \n",
       "╲╱  a  + b  "
      ]
     },
     "execution_count": 37,
     "metadata": {},
     "output_type": "execute_result"
    }
   ],
   "source": [
    "loaded_phase = sy.sympify(saved_phase)\n",
    "loaded_phase"
   ]
  },
  {
   "cell_type": "markdown",
   "id": "f8b3dcb7-543d-44db-809c-fd55d90cbcd4",
   "metadata": {},
   "source": [
    "If you loaded an expression that has symbols you haven't defined yet,\n",
    "you can get the new symbols from the expression in a\n",
    "[set](https://docs.python.org/3/tutorial/datastructures.html#sets):"
   ]
  },
  {
   "cell_type": "code",
   "execution_count": 38,
   "id": "d2b4ea26-1bd3-4030-96ee-bf772a47b6a2",
   "metadata": {
    "collapsed": false,
    "jupyter": {
     "outputs_hidden": false
    }
   },
   "outputs": [
    {
     "data": {
      "image/png": "[encoded data removed]",
      "text/latex": [
       "$\\displaystyle \\left\\{a, b\\right\\}$"
      ],
      "text/plain": [
       "{a, b}"
      ]
     },
     "execution_count": 38,
     "metadata": {},
     "output_type": "execute_result"
    }
   ],
   "source": [
    "loaded_phase.free_symbols"
   ]
  },
  {
   "cell_type": "markdown",
   "id": "7198640b-0645-4d0b-9827-09433dfda3d9",
   "metadata": {},
   "source": [
    "Sympy interprets `srepr` are expressions trees. [https://docs.sympy.org/latest/tutorial/manipulation.html] \n",
    "\n",
    "This helps with working with these expressions."
   ]
  },
  {
   "cell_type": "code",
   "execution_count": 39,
   "id": "9e571737-f08d-4beb-9883-245ce0a87aa5",
   "metadata": {},
   "outputs": [
    {
     "data": {
      "text/plain": [
       "\"Mul(Add(Symbol('a', real=True), Mul(I, Symbol('b', real=True))), Pow(Add(Pow(Symbol('a', real=True), Integer(2)), Pow(Symbol('b', real=True), Integer(2))), Rational(-1, 2)))\""
      ]
     },
     "execution_count": 39,
     "metadata": {},
     "output_type": "execute_result"
    }
   ],
   "source": [
    "sy.srepr(loaded_phase)"
   ]
  },
  {
   "cell_type": "markdown",
   "id": "b6cb747a-0e70-4a61-a77d-b540dbac53bc",
   "metadata": {},
   "source": [
    "## Numerical evaluation\n",
    "\n",
    "`sympy` can be used for numerical evaluation using `.evalf`."
   ]
  },
  {
   "cell_type": "code",
   "execution_count": 40,
   "id": "9bcd749f-e921-4a52-8833-2e59d387a2df",
   "metadata": {},
   "outputs": [],
   "source": [
    "sympy_sqrt3 = sy.sqrt(3)"
   ]
  },
  {
   "cell_type": "code",
   "execution_count": 41,
   "id": "1cd65a17-ea81-496e-bd2a-62a5b88fe969",
   "metadata": {},
   "outputs": [
    {
     "data": {
      "image/png": "[encoded data removed]",
      "text/latex": [
       "$\\displaystyle 0$"
      ],
      "text/plain": [
       "0"
      ]
     },
     "execution_count": 41,
     "metadata": {},
     "output_type": "execute_result"
    }
   ],
   "source": [
    "(sympy_sqrt3**2 - 3).evalf()"
   ]
  },
  {
   "cell_type": "code",
   "execution_count": null,
   "id": "767c43fa-6550-4d4e-b881-80a123f020bc",
   "metadata": {},
   "outputs": [],
   "source": []
  }
 ],
 "metadata": {
  "kernelspec": {
   "display_name": "Python 3 (ipykernel)",
   "language": "python",
   "name": "python3"
  },
  "language_info": {
   "codemirror_mode": {
    "name": "ipython",
    "version": 3
   },
   "file_extension": ".py",
   "mimetype": "text/x-python",
   "name": "python",
   "nbconvert_exporter": "python",
   "pygments_lexer": "ipython3",
   "version": "3.8.6"
  }
 },
 "nbformat": 4,
 "nbformat_minor": 5
}
