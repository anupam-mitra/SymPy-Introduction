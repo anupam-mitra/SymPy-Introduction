{
 "cells": [
  {
   "cell_type": "markdown",
   "id": "c3137b25-4e50-49f7-adcf-538b9d9d9756",
   "metadata": {},
   "source": [
    "# Physics examples\n",
    "- `sympy` has a module `sympy.physics` which has submodules designed for solving physics problem. \n",
    "- There are overlaps between modules, with different perspectives of solving similar problems."
   ]
  },
  {
   "cell_type": "code",
   "execution_count": 1,
   "id": "a24ba8ad-a262-48c3-a6dc-c9b25004a464",
   "metadata": {},
   "outputs": [],
   "source": [
    "import sympy"
   ]
  },
  {
   "cell_type": "code",
   "execution_count": 2,
   "id": "1e98ab02-2a36-42ee-8b94-a439b3eb960e",
   "metadata": {},
   "outputs": [],
   "source": [
    "sympy.init_printing()"
   ]
  },
  {
   "cell_type": "markdown",
   "id": "3c99611a-d7d8-47ab-aec2-4c3856d6d832",
   "metadata": {},
   "source": [
    "## Hydrogenic atom properties\n",
    "\n",
    "- `sympy` has a module `sympy.physics.hydrogen` which can calculate properties of Hydrogenic atoms. All quanities are calculated in Hartree atomic units.\n",
    "- Examples\n",
    "    - `sympy.physics.hydrogen.E_nl(n, Z)` calculates the non-relativisitic energy as a function of\n",
    "        - principal quantum number `n` \n",
    "        - atomic number `Z`.\n",
    "    - s`ympy.physics.hydrogen.Psi_nlm(n, l, m, r, theta, phi, Z)` calculates the wave function as a function of\n",
    "        - principal quantum number `n`\n",
    "        - angular momentum quantum number `l`\n",
    "        - magnetic quantum number `m`, representing the projection of angular momentum along the quantization axis\n",
    "        - radial coordinate `r`\n",
    "        - polar angle `theta`\n",
    "        - azimuthal angle `phi`\n",
    "        - atomic number `Z`."
   ]
  },
  {
   "cell_type": "code",
   "execution_count": 7,
   "id": "6512d4a1-2fb5-49d8-a183-3f0e1f6a675c",
   "metadata": {},
   "outputs": [],
   "source": [
    "import sympy.physics.hydrogen"
   ]
  },
  {
   "cell_type": "code",
   "execution_count": 13,
   "id": "da3ef4a3-7b2d-4505-8e38-c0d9eb28b4ee",
   "metadata": {},
   "outputs": [
    {
     "data": {
      "image/png": "[encoded data removed]",
      "text/latex": [
       "$\\displaystyle - \\frac{Z^{2}}{2 n^{2}}$"
      ],
      "text/plain": [
       "  2 \n",
       "-Z  \n",
       "────\n",
       "   2\n",
       "2⋅n "
      ]
     },
     "execution_count": 13,
     "metadata": {},
     "output_type": "execute_result"
    }
   ],
   "source": [
    "n = sympy.Symbol(\"n\")\n",
    "Z = sympy.Symbol(\"Z\")\n",
    "\n",
    "energy_nonrel = sympy.physics.hydrogen.E_nl(n, Z)\n",
    "energy_nonrel"
   ]
  },
  {
   "cell_type": "code",
   "execution_count": 18,
   "id": "a0129cb2-74af-498b-bf97-088d10aae8f7",
   "metadata": {},
   "outputs": [
    {
     "data": {
      "image/png": "[encoded data removed]",
      "text/latex": [
       "$\\displaystyle \\frac{\\left(\\frac{2 Z r}{n}\\right)^{l} \\sqrt{\\frac{Z^{3} \\left(- l + n - 1\\right)!}{n^{4} \\left(l + n\\right)!}} \\sqrt{\\frac{2 l \\left(l - m\\right)!}{\\left(l + m\\right)!} + \\frac{\\left(l - m\\right)!}{\\left(l + m\\right)!}} e^{i m \\theta} e^{- \\frac{Z r}{n}} L_{- l + n - 1}^{\\left(2 l + 1\\right)}\\left(\\frac{2 Z r}{n}\\right) P_{l}^{\\left(m\\right)}\\left(\\cos{\\left(\\phi \\right)}\\right)}{\\sqrt{\\pi}}$"
      ],
      "text/plain": [
       "               __________________                                       -Z⋅r  \n",
       "       l      ╱  3                    _________________________         ───── \n",
       "⎛2⋅Z⋅r⎞      ╱  Z ⋅(-l + n - 1)!     ╱ 2⋅l⋅(l - m)!   (l - m)!   ⅈ⋅m⋅θ    n   \n",
       "⎜─────⎟ ⋅   ╱   ──────────────── ⋅  ╱  ──────────── + ──────── ⋅ℯ     ⋅ℯ     ⋅\n",
       "⎝  n  ⎠    ╱       4              ╲╱     (l + m)!     (l + m)!                \n",
       "         ╲╱       n ⋅(l + n)!                                                 \n",
       "──────────────────────────────────────────────────────────────────────────────\n",
       "                                                                          √π  \n",
       "\n",
       "                                                                       \n",
       "                                                                       \n",
       "              ⎛                     2⋅Z⋅r⎞                             \n",
       "assoc_laguerre⎜-l + n - 1, 2⋅l + 1, ─────⎟⋅assoc_legendre(l, m, cos(φ))\n",
       "              ⎝                       n  ⎠                             \n",
       "                                                                       \n",
       "───────────────────────────────────────────────────────────────────────\n",
       "                                                                       "
      ]
     },
     "execution_count": 18,
     "metadata": {},
     "output_type": "execute_result"
    }
   ],
   "source": [
    "l = sympy.Symbol(\"l\")\n",
    "m = sympy.Symbol(\"m\")\n",
    "\n",
    "r = sympy.Symbol(\"r\")\n",
    "phi = sympy.Symbol(\"phi\")\n",
    "theta = sympy.Symbol(\"theta\")\n",
    "\n",
    "psi_nlm = sympy.physics.hydrogen.Psi_nlm(n, l, m, r, theta, phi, Z)\n",
    "psi_nlm"
   ]
  },
  {
   "cell_type": "markdown",
   "id": "e2ad0176-7aa1-4f60-b306-3423060b19e4",
   "metadata": {
    "tags": []
   },
   "source": [
    "## Dirac gamma matrices\n",
    "- `sympy` has a module `sympy.physics.hep.gamma_matrices` which can do calculations involving the Dirac gamma matrices.\n",
    "- `sympy` also has a module `sympy.physics.matrices` which has a function `mgamma` which evaluates the matrix representation of the the Dirac gamma matrices.\n",
    "- Either of these can be used to verify some properties of the gamma matrices."
   ]
  },
  {
   "cell_type": "markdown",
   "id": "d3e67753-5ba2-4e74-8392-6fc46102dcee",
   "metadata": {
    "tags": []
   },
   "source": [
    "$$ \\text{Tr}\\left(\\gamma^\\mu\\right) = 0 $$\n",
    "\n",
    "$$ \\text{Tr}\\left(\\gamma^\\mu \\gamma^\\nu\\right) = 4 \\eta^{\\mu \\nu} $$\n",
    "\n",
    "$$ \\text{Tr}\\left(\\gamma^\\mu \\gamma^\\nu \\gamma^\\rho \\right) = 0 $$\n",
    "\n",
    "$$ \\text{Tr}\\left(\\gamma^\\mu \\gamma^\\nu \\gamma^\\rho \\gamma^\\sigma \\right) \n",
    "= 4 \\eta^{\\mu \\nu} \\eta^{\\rho \\sigma}\n",
    "- 4 \\eta^{\\mu \\rho} \\eta^{\\nu \\sigma}\n",
    "+ 4 \\eta^{\\mu \\sigma} \\eta^{\\nu \\rho}\n",
    "$$"
   ]
  },
  {
   "cell_type": "code",
   "execution_count": 3,
   "id": "127a6844-bd6c-43c7-96f7-275e5094ee0f",
   "metadata": {},
   "outputs": [],
   "source": [
    "import sympy.physics.matrices"
   ]
  },
  {
   "cell_type": "code",
   "execution_count": 6,
   "id": "244de52a-4c88-40bc-9488-2cce61890252",
   "metadata": {},
   "outputs": [
    {
     "data": {
      "image/png": "[encoded data removed]",
      "text/latex": [
       "$\\displaystyle \\left[ \\left[\\begin{matrix}1 & 0 & 0 & 0\\\\0 & 1 & 0 & 0\\\\0 & 0 & -1 & 0\\\\0 & 0 & 0 & -1\\end{matrix}\\right], \\  \\left[\\begin{matrix}0 & 0 & 0 & 1\\\\0 & 0 & 1 & 0\\\\0 & -1 & 0 & 0\\\\-1 & 0 & 0 & 0\\end{matrix}\\right], \\  \\left[\\begin{matrix}0 & 0 & 0 & - i\\\\0 & 0 & i & 0\\\\0 & i & 0 & 0\\\\- i & 0 & 0 & 0\\end{matrix}\\right], \\  \\left[\\begin{matrix}0 & 0 & 1 & 0\\\\0 & 0 & 0 & -1\\\\-1 & 0 & 0 & 0\\\\0 & 1 & 0 & 0\\end{matrix}\\right]\\right]$"
      ],
      "text/plain": [
       "⎡⎡1  0  0   0 ⎤  ⎡0   0   0  1⎤  ⎡0   0  0  -ⅈ⎤  ⎡0   0  1  0 ⎤⎤\n",
       "⎢⎢            ⎥  ⎢            ⎥  ⎢            ⎥  ⎢            ⎥⎥\n",
       "⎢⎢0  1  0   0 ⎥  ⎢0   0   1  0⎥  ⎢0   0  ⅈ  0 ⎥  ⎢0   0  0  -1⎥⎥\n",
       "⎢⎢            ⎥, ⎢            ⎥, ⎢            ⎥, ⎢            ⎥⎥\n",
       "⎢⎢0  0  -1  0 ⎥  ⎢0   -1  0  0⎥  ⎢0   ⅈ  0  0 ⎥  ⎢-1  0  0  0 ⎥⎥\n",
       "⎢⎢            ⎥  ⎢            ⎥  ⎢            ⎥  ⎢            ⎥⎥\n",
       "⎣⎣0  0  0   -1⎦  ⎣-1  0   0  0⎦  ⎣-ⅈ  0  0  0 ⎦  ⎣0   1  0  0 ⎦⎦"
      ]
     },
     "execution_count": 6,
     "metadata": {},
     "output_type": "execute_result"
    }
   ],
   "source": [
    "γ_matrix_list = [sympy.physics.matrices.mgamma(μ) for μ in range(4)] \n",
    "γ_matrix_list"
   ]
  },
  {
   "cell_type": "code",
   "execution_count": 28,
   "id": "a57e346c-6852-4456-9619-497bfece272d",
   "metadata": {},
   "outputs": [],
   "source": [
    "import sympy.physics.hep.gamma_matrices\n",
    "import sympy.tensor.tensor"
   ]
  },
  {
   "cell_type": "code",
   "execution_count": 51,
   "id": "5f0a52df-a5df-473e-a3bd-2457427d42e5",
   "metadata": {},
   "outputs": [],
   "source": [
    "μ = sympy.tensor.tensor.tensor_indices(\n",
    "    \"mu\", \n",
    "    sympy.physics.hep.gamma_matrices.LorentzIndex)\n",
    "\n",
    "γ_μ = sympy.physics.hep.gamma_matrices.GammaMatrix(μ)"
   ]
  },
  {
   "cell_type": "code",
   "execution_count": 26,
   "id": "0beabf75-7490-43df-8fce-b3aa8862b4ef",
   "metadata": {},
   "outputs": [],
   "source": [
    "ν = sympy.tensor.tensor.tensor_indices(\n",
    "    \"nu\", \n",
    "    sympy.physics.hep.gamma_matrices.LorentzIndex)\n",
    "\n",
    "γ_ν = sympy.physics.hep.gamma_matrices.GammaMatrix(ν)"
   ]
  },
  {
   "cell_type": "code",
   "execution_count": 58,
   "id": "548035b1-da12-405d-9701-206402b1bb27",
   "metadata": {},
   "outputs": [],
   "source": [
    "ρ, σ = sympy.tensor.tensor.tensor_indices(\n",
    "    \"rho sigma\", \n",
    "    sympy.physics.hep.gamma_matrices.LorentzIndex)\n",
    "\n",
    "γ_ρ = sympy.physics.hep.gamma_matrices.GammaMatrix(ρ) \n",
    "γ_σ = sympy.physics.hep.gamma_matrices.GammaMatrix(σ) "
   ]
  },
  {
   "cell_type": "code",
   "execution_count": 59,
   "id": "95393286-5eef-4970-99a3-a322b7a6e579",
   "metadata": {},
   "outputs": [
    {
     "data": {
      "image/png": "[encoded data removed]",
      "text/latex": [
       "$\\displaystyle 4metric{}^{\\mu\\nu}$"
      ],
      "text/plain": [
       "        μν\n",
       "4⋅metric  \n",
       "          "
      ]
     },
     "execution_count": 59,
     "metadata": {},
     "output_type": "execute_result"
    }
   ],
   "source": [
    "sympy.physics.hep.gamma_matrices.gamma_trace(γ_μ * γ_ν)"
   ]
  },
  {
   "cell_type": "code",
   "execution_count": 60,
   "id": "b9c55b3a-7679-42c1-bc23-d762be85aaaf",
   "metadata": {},
   "outputs": [
    {
     "data": {
      "image/png": "[encoded data removed]",
      "text/latex": [
       "$\\displaystyle 0$"
      ],
      "text/plain": [
       "0"
      ]
     },
     "execution_count": 60,
     "metadata": {},
     "output_type": "execute_result"
    }
   ],
   "source": [
    "sympy.physics.hep.gamma_matrices.gamma_trace(γ_μ * γ_ν * γ_ρ)"
   ]
  },
  {
   "cell_type": "code",
   "execution_count": 61,
   "id": "470387d3-bcf6-4ea0-a844-c3d893ae6691",
   "metadata": {},
   "outputs": [
    {
     "data": {
      "image/png": "[encoded data removed]",
      "text/latex": [
       "$\\displaystyle -4metric{}^{\\mu\\rho}metric{}^{\\nu\\sigma} + 4metric{}^{\\mu\\nu}metric{}^{\\rho\\sigma} + 4metric{}^{\\mu\\sigma}metric{}^{\\nu\\rho}$"
      ],
      "text/plain": [
       "         μρ       νσ           μν       ρσ           μσ       νρ\n",
       "-4⋅metric  ⋅metric   + 4⋅metric  ⋅metric   + 4⋅metric  ⋅metric  \n",
       "                                                                "
      ]
     },
     "execution_count": 61,
     "metadata": {},
     "output_type": "execute_result"
    }
   ],
   "source": [
    "sympy.physics.hep.gamma_matrices.gamma_trace(γ_μ * γ_ν * γ_ρ * γ_σ)"
   ]
  },
  {
   "cell_type": "code",
   "execution_count": 3,
   "id": "7ed13bf2-04d2-4d09-a11f-f85dc9a75189",
   "metadata": {},
   "outputs": [],
   "source": [
    "import sympy.physics.matrices"
   ]
  },
  {
   "cell_type": "code",
   "execution_count": 45,
   "id": "e65fe511-5550-4a1f-a701-f054c20733df",
   "metadata": {},
   "outputs": [
    {
     "data": {
      "image/png": "[encoded data removed]",
      "text/latex": [
       "$\\displaystyle \\left[ \\left[\\begin{matrix}1 & 0 & 0 & 0\\\\0 & 1 & 0 & 0\\\\0 & 0 & -1 & 0\\\\0 & 0 & 0 & -1\\end{matrix}\\right], \\  \\left[\\begin{matrix}0 & 0 & 0 & 1\\\\0 & 0 & 1 & 0\\\\0 & -1 & 0 & 0\\\\-1 & 0 & 0 & 0\\end{matrix}\\right], \\  \\left[\\begin{matrix}0 & 0 & 0 & - i\\\\0 & 0 & i & 0\\\\0 & i & 0 & 0\\\\- i & 0 & 0 & 0\\end{matrix}\\right], \\  \\left[\\begin{matrix}0 & 0 & 1 & 0\\\\0 & 0 & 0 & -1\\\\-1 & 0 & 0 & 0\\\\0 & 1 & 0 & 0\\end{matrix}\\right]\\right]$"
      ],
      "text/plain": [
       "⎡⎡1  0  0   0 ⎤  ⎡0   0   0  1⎤  ⎡0   0  0  -ⅈ⎤  ⎡0   0  1  0 ⎤⎤\n",
       "⎢⎢            ⎥  ⎢            ⎥  ⎢            ⎥  ⎢            ⎥⎥\n",
       "⎢⎢0  1  0   0 ⎥  ⎢0   0   1  0⎥  ⎢0   0  ⅈ  0 ⎥  ⎢0   0  0  -1⎥⎥\n",
       "⎢⎢            ⎥, ⎢            ⎥, ⎢            ⎥, ⎢            ⎥⎥\n",
       "⎢⎢0  0  -1  0 ⎥  ⎢0   -1  0  0⎥  ⎢0   ⅈ  0  0 ⎥  ⎢-1  0  0  0 ⎥⎥\n",
       "⎢⎢            ⎥  ⎢            ⎥  ⎢            ⎥  ⎢            ⎥⎥\n",
       "⎣⎣0  0  0   -1⎦  ⎣-1  0   0  0⎦  ⎣-ⅈ  0  0  0 ⎦  ⎣0   1  0  0 ⎦⎦"
      ]
     },
     "execution_count": 45,
     "metadata": {},
     "output_type": "execute_result"
    }
   ],
   "source": [
    "γ_matrix_upper_list = [sympy.physics.matrices.mgamma(μ, lower=False) for μ in range(4)] \n",
    "γ_matrix_upper_list"
   ]
  },
  {
   "cell_type": "code",
   "execution_count": 42,
   "id": "1dce84d0-722c-40c0-877f-183015f7a2a9",
   "metadata": {},
   "outputs": [
    {
     "data": {
      "image/png": "[encoded data removed]",
      "text/latex": [
       "$\\displaystyle \\left[ \\left[\\begin{matrix}1 & 0 & 0 & 0\\\\0 & 1 & 0 & 0\\\\0 & 0 & -1 & 0\\\\0 & 0 & 0 & -1\\end{matrix}\\right], \\  \\left[\\begin{matrix}0 & 0 & 0 & -1\\\\0 & 0 & -1 & 0\\\\0 & 1 & 0 & 0\\\\1 & 0 & 0 & 0\\end{matrix}\\right], \\  \\left[\\begin{matrix}0 & 0 & 0 & i\\\\0 & 0 & - i & 0\\\\0 & - i & 0 & 0\\\\i & 0 & 0 & 0\\end{matrix}\\right], \\  \\left[\\begin{matrix}0 & 0 & -1 & 0\\\\0 & 0 & 0 & 1\\\\1 & 0 & 0 & 0\\\\0 & -1 & 0 & 0\\end{matrix}\\right]\\right]$"
      ],
      "text/plain": [
       "⎡⎡1  0  0   0 ⎤  ⎡0  0  0   -1⎤  ⎡0  0   0   ⅈ⎤  ⎡0  0   -1  0⎤⎤\n",
       "⎢⎢            ⎥  ⎢            ⎥  ⎢            ⎥  ⎢            ⎥⎥\n",
       "⎢⎢0  1  0   0 ⎥  ⎢0  0  -1  0 ⎥  ⎢0  0   -ⅈ  0⎥  ⎢0  0   0   1⎥⎥\n",
       "⎢⎢            ⎥, ⎢            ⎥, ⎢            ⎥, ⎢            ⎥⎥\n",
       "⎢⎢0  0  -1  0 ⎥  ⎢0  1  0   0 ⎥  ⎢0  -ⅈ  0   0⎥  ⎢1  0   0   0⎥⎥\n",
       "⎢⎢            ⎥  ⎢            ⎥  ⎢            ⎥  ⎢            ⎥⎥\n",
       "⎣⎣0  0  0   -1⎦  ⎣1  0  0   0 ⎦  ⎣ⅈ  0   0   0⎦  ⎣0  -1  0   0⎦⎦"
      ]
     },
     "execution_count": 42,
     "metadata": {},
     "output_type": "execute_result"
    }
   ],
   "source": [
    "γ_matrix_lower_list = [sympy.physics.matrices.mgamma(μ, lower=True) for μ in range(4)] \n",
    "γ_matrix_lower_list"
   ]
  },
  {
   "cell_type": "code",
   "execution_count": 71,
   "id": "1c6e088e-b15d-4f58-a9eb-f0877df7a38b",
   "metadata": {},
   "outputs": [
    {
     "data": {
      "image/png": "[encoded data removed]",
      "text/latex": [
       "$\\displaystyle \\left[ \\left( 0, \\  0, \\  4\\right), \\  \\left( 0, \\  1, \\  0\\right), \\  \\left( 0, \\  2, \\  0\\right), \\  \\left( 0, \\  3, \\  0\\right), \\  \\left( 1, \\  0, \\  0\\right), \\  \\left( 1, \\  1, \\  4\\right), \\  \\left( 1, \\  2, \\  0\\right), \\  \\left( 1, \\  3, \\  0\\right), \\  \\left( 2, \\  0, \\  0\\right), \\  \\left( 2, \\  1, \\  0\\right), \\  \\left( 2, \\  2, \\  4\\right), \\  \\left( 2, \\  3, \\  0\\right), \\  \\left( 3, \\  0, \\  0\\right), \\  \\left( 3, \\  1, \\  0\\right), \\  \\left( 3, \\  2, \\  0\\right), \\  \\left( 3, \\  3, \\  4\\right)\\right]$"
      ],
      "text/plain": [
       "[(0, 0, 4), (0, 1, 0), (0, 2, 0), (0, 3, 0), (1, 0, 0), (1, 1, 4), (1, 2, 0), \n",
       "(1, 3, 0), (2, 0, 0), (2, 1, 0), (2, 2, 4), (2, 3, 0), (3, 0, 0), (3, 1, 0), (\n",
       "3, 2, 0), (3, 3, 4)]"
      ]
     },
     "execution_count": 71,
     "metadata": {},
     "output_type": "execute_result"
    }
   ],
   "source": [
    "[(mu, nu, sympy.trace(γ_matrix_upper_list[mu] * γ_matrix_lower_list[nu])) \\\n",
    "             for mu in range(4) for nu in range(4)]"
   ]
  },
  {
   "cell_type": "code",
   "execution_count": null,
   "id": "b6423c33-d657-4088-a9bb-05bb6857822f",
   "metadata": {},
   "outputs": [],
   "source": []
  }
 ],
 "metadata": {
  "kernelspec": {
   "display_name": "Python 3 (ipykernel)",
   "language": "python",
   "name": "python3"
  },
  "language_info": {
   "codemirror_mode": {
    "name": "ipython",
    "version": 3
   },
   "file_extension": ".py",
   "mimetype": "text/x-python",
   "name": "python",
   "nbconvert_exporter": "python",
   "pygments_lexer": "ipython3",
   "version": "3.8.6"
  }
 },
 "nbformat": 4,
 "nbformat_minor": 5
}
